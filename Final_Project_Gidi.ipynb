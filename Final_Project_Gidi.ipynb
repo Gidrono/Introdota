{
 "cells": [
  {
   "cell_type": "code",
   "execution_count": 129,
   "id": "8758a654",
   "metadata": {},
   "outputs": [],
   "source": [
    "student_ID = 305261083\n",
    "\n",
    "#1.\n",
    "#My question is: Does USA aids poor countries more than wealthy countries?\n",
    "#I found a nice databast on the US gov site:\n",
    "#https://foreignassistance.gov/data\n",
    "#The complete foreign aid budget dataset: President's Budget Request, initial allocations, and final allocations\n",
    "\n",
    "#2.a.\n",
    "#our important data includes: Country Name = nominal variable. \n",
    "#Income group ID = income of country, from 1-4, Ordinal variable.\n",
    "#US Category Name = purpose for aid US gave, nominal variable\n",
    "#Fiscal Year = interval variable.\n",
    "#current_amount = budget used in $, ratio variable. ALSO OUR TARGET VARIABLE\n",
    "\n",
    "#2.c.\n",
    "#an anomaly is Israel which is a wealthy country rated 4 in Income ID\n",
    "#but at the same breath it is the country that gets most aid\n",
    "#solution was to calculate the aid without Israel"
   ]
  },
  {
   "cell_type": "code",
   "execution_count": null,
   "id": "fdb57642",
   "metadata": {},
   "outputs": [],
   "source": [
    "#3.b.\n",
    "#I've added another feature - post afghanistan war. to see if afghanistan is still getting alot of aid"
   ]
  },
  {
   "cell_type": "code",
   "execution_count": 3,
   "id": "501e9b93",
   "metadata": {},
   "outputs": [],
   "source": [
    "import pandas as pd"
   ]
  },
  {
   "cell_type": "code",
   "execution_count": 4,
   "id": "678d4a64",
   "metadata": {},
   "outputs": [
    {
     "name": "stdout",
     "output_type": "stream",
     "text": [
      "<class 'pandas.core.frame.DataFrame'>\n",
      "RangeIndex: 53059 entries, 0 to 53058\n",
      "Data columns (total 5 columns):\n",
      " #   Column            Non-Null Count  Dtype  \n",
      "---  ------            --------------  -----  \n",
      " 0   Country Name      53059 non-null  object \n",
      " 1   Income Group ID   40527 non-null  float64\n",
      " 2   US Category Name  53059 non-null  object \n",
      " 3   Fiscal Year       53059 non-null  int64  \n",
      " 4   current_amount    53059 non-null  int64  \n",
      "dtypes: float64(1), int64(2), object(2)\n",
      "memory usage: 2.0+ MB\n"
     ]
    }
   ],
   "source": [
    "foreign = pd.read_csv(\"us_foreign_budget_complete.csv\",usecols = [\"Income Group ID\",\"Country Name\",\"US Category Name\",\"Fiscal Year\",\"current_amount\"])\n",
    "foreign.info()"
   ]
  },
  {
   "cell_type": "code",
   "execution_count": 5,
   "id": "1872e686",
   "metadata": {},
   "outputs": [
    {
     "data": {
      "text/html": [
       "<div>\n",
       "<style scoped>\n",
       "    .dataframe tbody tr th:only-of-type {\n",
       "        vertical-align: middle;\n",
       "    }\n",
       "\n",
       "    .dataframe tbody tr th {\n",
       "        vertical-align: top;\n",
       "    }\n",
       "\n",
       "    .dataframe thead th {\n",
       "        text-align: right;\n",
       "    }\n",
       "</style>\n",
       "<table border=\"1\" class=\"dataframe\">\n",
       "  <thead>\n",
       "    <tr style=\"text-align: right;\">\n",
       "      <th></th>\n",
       "      <th>Country Name</th>\n",
       "      <th>Income Group ID</th>\n",
       "      <th>US Category Name</th>\n",
       "      <th>Fiscal Year</th>\n",
       "      <th>current_amount</th>\n",
       "    </tr>\n",
       "  </thead>\n",
       "  <tbody>\n",
       "    <tr>\n",
       "      <th>0</th>\n",
       "      <td>Afghanistan</td>\n",
       "      <td>1.0</td>\n",
       "      <td>Education and Social Services</td>\n",
       "      <td>2022</td>\n",
       "      <td>33000000</td>\n",
       "    </tr>\n",
       "    <tr>\n",
       "      <th>1</th>\n",
       "      <td>Afghanistan</td>\n",
       "      <td>1.0</td>\n",
       "      <td>Education and Social Services</td>\n",
       "      <td>2022</td>\n",
       "      <td>17000000</td>\n",
       "    </tr>\n",
       "    <tr>\n",
       "      <th>2</th>\n",
       "      <td>Afghanistan</td>\n",
       "      <td>1.0</td>\n",
       "      <td>Health</td>\n",
       "      <td>2022</td>\n",
       "      <td>2000000</td>\n",
       "    </tr>\n",
       "    <tr>\n",
       "      <th>3</th>\n",
       "      <td>Afghanistan</td>\n",
       "      <td>1.0</td>\n",
       "      <td>Health</td>\n",
       "      <td>2022</td>\n",
       "      <td>8000000</td>\n",
       "    </tr>\n",
       "    <tr>\n",
       "      <th>4</th>\n",
       "      <td>Afghanistan</td>\n",
       "      <td>1.0</td>\n",
       "      <td>Health</td>\n",
       "      <td>2022</td>\n",
       "      <td>16700000</td>\n",
       "    </tr>\n",
       "  </tbody>\n",
       "</table>\n",
       "</div>"
      ],
      "text/plain": [
       "  Country Name  Income Group ID               US Category Name  Fiscal Year  \\\n",
       "0  Afghanistan              1.0  Education and Social Services         2022   \n",
       "1  Afghanistan              1.0  Education and Social Services         2022   \n",
       "2  Afghanistan              1.0                         Health         2022   \n",
       "3  Afghanistan              1.0                         Health         2022   \n",
       "4  Afghanistan              1.0                         Health         2022   \n",
       "\n",
       "   current_amount  \n",
       "0        33000000  \n",
       "1        17000000  \n",
       "2         2000000  \n",
       "3         8000000  \n",
       "4        16700000  "
      ]
     },
     "execution_count": 5,
     "metadata": {},
     "output_type": "execute_result"
    }
   ],
   "source": [
    "foreign.head(5)\n",
    "#these are the 5 first rows, describing aids US gave to foreign countries\n",
    "#in this case all five are for Afghanistan"
   ]
  },
  {
   "cell_type": "code",
   "execution_count": 6,
   "id": "e6f6dc89",
   "metadata": {},
   "outputs": [
    {
     "data": {
      "text/plain": [
       "Country Name          188\n",
       "Income Group ID         4\n",
       "US Category Name        9\n",
       "Fiscal Year            19\n",
       "current_amount      10716\n",
       "dtype: int64"
      ]
     },
     "execution_count": 6,
     "metadata": {},
     "output_type": "execute_result"
    }
   ],
   "source": [
    "foreign.nunique().head()\n",
    "#I want to see how many countries are there, getting aid from US\n",
    "#And how many years of data are there"
   ]
  },
  {
   "cell_type": "code",
   "execution_count": 7,
   "id": "aa195bc4",
   "metadata": {},
   "outputs": [
    {
     "data": {
      "text/html": [
       "<div>\n",
       "<style scoped>\n",
       "    .dataframe tbody tr th:only-of-type {\n",
       "        vertical-align: middle;\n",
       "    }\n",
       "\n",
       "    .dataframe tbody tr th {\n",
       "        vertical-align: top;\n",
       "    }\n",
       "\n",
       "    .dataframe thead th {\n",
       "        text-align: right;\n",
       "    }\n",
       "</style>\n",
       "<table border=\"1\" class=\"dataframe\">\n",
       "  <thead>\n",
       "    <tr style=\"text-align: right;\">\n",
       "      <th></th>\n",
       "      <th>Country Name</th>\n",
       "      <th>Income Group ID</th>\n",
       "      <th>US Category Name</th>\n",
       "      <th>Fiscal Year</th>\n",
       "      <th>current_amount</th>\n",
       "    </tr>\n",
       "  </thead>\n",
       "  <tbody>\n",
       "    <tr>\n",
       "      <th>20836</th>\n",
       "      <td>Lithuania</td>\n",
       "      <td>4.0</td>\n",
       "      <td>Peace and Security</td>\n",
       "      <td>2014</td>\n",
       "      <td>2549000</td>\n",
       "    </tr>\n",
       "    <tr>\n",
       "      <th>28935</th>\n",
       "      <td>Poland</td>\n",
       "      <td>4.0</td>\n",
       "      <td>Peace and Security</td>\n",
       "      <td>2017</td>\n",
       "      <td>3000000</td>\n",
       "    </tr>\n",
       "    <tr>\n",
       "      <th>14555</th>\n",
       "      <td>Hungary</td>\n",
       "      <td>4.0</td>\n",
       "      <td>Peace and Security</td>\n",
       "      <td>2015</td>\n",
       "      <td>993000</td>\n",
       "    </tr>\n",
       "    <tr>\n",
       "      <th>14554</th>\n",
       "      <td>Hungary</td>\n",
       "      <td>4.0</td>\n",
       "      <td>Peace and Security</td>\n",
       "      <td>2014</td>\n",
       "      <td>1152000</td>\n",
       "    </tr>\n",
       "    <tr>\n",
       "      <th>14553</th>\n",
       "      <td>Hungary</td>\n",
       "      <td>4.0</td>\n",
       "      <td>Peace and Security</td>\n",
       "      <td>2013</td>\n",
       "      <td>1044000</td>\n",
       "    </tr>\n",
       "  </tbody>\n",
       "</table>\n",
       "</div>"
      ],
      "text/plain": [
       "      Country Name  Income Group ID    US Category Name  Fiscal Year  \\\n",
       "20836    Lithuania              4.0  Peace and Security         2014   \n",
       "28935       Poland              4.0  Peace and Security         2017   \n",
       "14555      Hungary              4.0  Peace and Security         2015   \n",
       "14554      Hungary              4.0  Peace and Security         2014   \n",
       "14553      Hungary              4.0  Peace and Security         2013   \n",
       "\n",
       "       current_amount  \n",
       "20836         2549000  \n",
       "28935         3000000  \n",
       "14555          993000  \n",
       "14554         1152000  \n",
       "14553         1044000  "
      ]
     },
     "execution_count": 7,
     "metadata": {},
     "output_type": "execute_result"
    }
   ],
   "source": [
    "foreign.sort_values(\"Income Group ID\", ascending=False).head(5)\n",
    "#I want to see some wealthy countries that gets aid from US"
   ]
  },
  {
   "cell_type": "code",
   "execution_count": null,
   "id": "cb0ac62e",
   "metadata": {},
   "outputs": [],
   "source": []
  },
  {
   "cell_type": "code",
   "execution_count": 8,
   "id": "0786dd40",
   "metadata": {},
   "outputs": [
    {
     "data": {
      "text/html": [
       "<div>\n",
       "<style scoped>\n",
       "    .dataframe tbody tr th:only-of-type {\n",
       "        vertical-align: middle;\n",
       "    }\n",
       "\n",
       "    .dataframe tbody tr th {\n",
       "        vertical-align: top;\n",
       "    }\n",
       "\n",
       "    .dataframe thead th {\n",
       "        text-align: right;\n",
       "    }\n",
       "</style>\n",
       "<table border=\"1\" class=\"dataframe\">\n",
       "  <thead>\n",
       "    <tr style=\"text-align: right;\">\n",
       "      <th></th>\n",
       "      <th>Income Group ID</th>\n",
       "      <th>US Category Name</th>\n",
       "      <th>Fiscal Year</th>\n",
       "      <th>current_amount</th>\n",
       "    </tr>\n",
       "    <tr>\n",
       "      <th>Country Name</th>\n",
       "      <th></th>\n",
       "      <th></th>\n",
       "      <th></th>\n",
       "      <th></th>\n",
       "    </tr>\n",
       "  </thead>\n",
       "  <tbody>\n",
       "    <tr>\n",
       "      <th>Afghanistan</th>\n",
       "      <td>1.0</td>\n",
       "      <td>Education and Social Services</td>\n",
       "      <td>2022</td>\n",
       "      <td>33000000</td>\n",
       "    </tr>\n",
       "    <tr>\n",
       "      <th>Albania</th>\n",
       "      <td>3.0</td>\n",
       "      <td>Democracy, Human Rights, and Governance</td>\n",
       "      <td>2022</td>\n",
       "      <td>2250000</td>\n",
       "    </tr>\n",
       "    <tr>\n",
       "      <th>Algeria</th>\n",
       "      <td>3.0</td>\n",
       "      <td>Peace and Security</td>\n",
       "      <td>2022</td>\n",
       "      <td>1300000</td>\n",
       "    </tr>\n",
       "    <tr>\n",
       "      <th>Angola</th>\n",
       "      <td>2.0</td>\n",
       "      <td>Health</td>\n",
       "      <td>2022</td>\n",
       "      <td>19000000</td>\n",
       "    </tr>\n",
       "    <tr>\n",
       "      <th>Argentina</th>\n",
       "      <td>4.0</td>\n",
       "      <td>Peace and Security</td>\n",
       "      <td>2022</td>\n",
       "      <td>650000</td>\n",
       "    </tr>\n",
       "    <tr>\n",
       "      <th>...</th>\n",
       "      <td>...</td>\n",
       "      <td>...</td>\n",
       "      <td>...</td>\n",
       "      <td>...</td>\n",
       "    </tr>\n",
       "    <tr>\n",
       "      <th>Western Hemisphere Region</th>\n",
       "      <td>NaN</td>\n",
       "      <td>Education and Social Services</td>\n",
       "      <td>2022</td>\n",
       "      <td>10000000</td>\n",
       "    </tr>\n",
       "    <tr>\n",
       "      <th>World</th>\n",
       "      <td>NaN</td>\n",
       "      <td>Multi-sector</td>\n",
       "      <td>2004</td>\n",
       "      <td>985628849</td>\n",
       "    </tr>\n",
       "    <tr>\n",
       "      <th>Yemen</th>\n",
       "      <td>1.0</td>\n",
       "      <td>Education and Social Services</td>\n",
       "      <td>2022</td>\n",
       "      <td>7000000</td>\n",
       "    </tr>\n",
       "    <tr>\n",
       "      <th>Zambia</th>\n",
       "      <td>2.0</td>\n",
       "      <td>Education and Social Services</td>\n",
       "      <td>2022</td>\n",
       "      <td>5000000</td>\n",
       "    </tr>\n",
       "    <tr>\n",
       "      <th>Zimbabwe</th>\n",
       "      <td>1.0</td>\n",
       "      <td>Health</td>\n",
       "      <td>2022</td>\n",
       "      <td>15000000</td>\n",
       "    </tr>\n",
       "  </tbody>\n",
       "</table>\n",
       "<p>188 rows × 4 columns</p>\n",
       "</div>"
      ],
      "text/plain": [
       "                           Income Group ID  \\\n",
       "Country Name                                 \n",
       "Afghanistan                            1.0   \n",
       "Albania                                3.0   \n",
       "Algeria                                3.0   \n",
       "Angola                                 2.0   \n",
       "Argentina                              4.0   \n",
       "...                                    ...   \n",
       "Western Hemisphere Region              NaN   \n",
       "World                                  NaN   \n",
       "Yemen                                  1.0   \n",
       "Zambia                                 2.0   \n",
       "Zimbabwe                               1.0   \n",
       "\n",
       "                                                  US Category Name  \\\n",
       "Country Name                                                         \n",
       "Afghanistan                          Education and Social Services   \n",
       "Albania                    Democracy, Human Rights, and Governance   \n",
       "Algeria                                         Peace and Security   \n",
       "Angola                                                      Health   \n",
       "Argentina                                       Peace and Security   \n",
       "...                                                            ...   \n",
       "Western Hemisphere Region            Education and Social Services   \n",
       "World                                                 Multi-sector   \n",
       "Yemen                                Education and Social Services   \n",
       "Zambia                               Education and Social Services   \n",
       "Zimbabwe                                                    Health   \n",
       "\n",
       "                           Fiscal Year  current_amount  \n",
       "Country Name                                            \n",
       "Afghanistan                       2022        33000000  \n",
       "Albania                           2022         2250000  \n",
       "Algeria                           2022         1300000  \n",
       "Angola                            2022        19000000  \n",
       "Argentina                         2022          650000  \n",
       "...                                ...             ...  \n",
       "Western Hemisphere Region         2022        10000000  \n",
       "World                             2004       985628849  \n",
       "Yemen                             2022         7000000  \n",
       "Zambia                            2022         5000000  \n",
       "Zimbabwe                          2022        15000000  \n",
       "\n",
       "[188 rows x 4 columns]"
      ]
     },
     "execution_count": 8,
     "metadata": {},
     "output_type": "execute_result"
    }
   ],
   "source": [
    "#This is just to see samples of aids for different countries\n",
    "countries = foreign.groupby(\"Country Name\").first()\n",
    "countries"
   ]
  },
  {
   "cell_type": "code",
   "execution_count": 9,
   "id": "2c98515e",
   "metadata": {},
   "outputs": [
    {
     "name": "stdout",
     "output_type": "stream",
     "text": [
      "39048000\n"
     ]
    }
   ],
   "source": [
    "#I want to see how much aid did Argentina got in 19 years.\n",
    "\n",
    "total = foreign.loc[foreign['Country Name'] == 'Argentina', 'current_amount'].sum()\n",
    "print(total)"
   ]
  },
  {
   "cell_type": "code",
   "execution_count": 27,
   "id": "4019d781",
   "metadata": {},
   "outputs": [
    {
     "name": "stdout",
     "output_type": "stream",
     "text": [
      "45462186031\n",
      "37318    2.0\n",
      "Name: Income Group ID, dtype: float64\n"
     ]
    }
   ],
   "source": [
    "#Creating a class for countries:\n",
    "class Country:\n",
    "    def __init__(self, data, country):\n",
    "        self.df = data\n",
    "        self.country = country\n",
    "\n",
    "    #a function to see how much aid the country get in total.\n",
    "    def aid_in_total(self):\n",
    "        total = self.df.loc[self.df['Country Name'] == self.country, 'current_amount'].sum()\n",
    "        return total\n",
    "    \n",
    "    #a function to see how wealthy the country is from 1 to 4\n",
    "    def get_wealth(self):\n",
    "        return self.df.loc[self.df['Country Name'] == self.country, 'Income Group ID'].head(1)\n",
    "         \n",
    "    \n",
    "Egypt = Country(foreign, 'Egypt')\n",
    "print(Egypt.aid_in_total())\n",
    "print(Egypt.get_wealth())"
   ]
  },
  {
   "cell_type": "code",
   "execution_count": 41,
   "id": "872b2b0e",
   "metadata": {},
   "outputs": [],
   "source": [
    "#now Lets see which country gets most aid from USA:\n",
    "dct1 = {}\n",
    "\n",
    "#I'm using a dictionary and not a dataframe for the convenience.\n",
    "for index, row in foreign.iterrows():\n",
    "    if row['Country Name'] not in dct1.keys() and row['Country Name']!='World':\n",
    "        #there is also aid for World, which i had to leave out my calculations because i want to watch countries only\n",
    "        dct1[row['Country Name']]=foreign.loc[foreign['Country Name'] == row['Country Name'], 'current_amount'].sum()"
   ]
  },
  {
   "cell_type": "code",
   "execution_count": 44,
   "id": "2eeaaafe",
   "metadata": {},
   "outputs": [
    {
     "name": "stdout",
     "output_type": "stream",
     "text": [
      "Israel: 89278860000\n",
      "Afghanistan: 87880321256\n",
      "Egypt: 45462186031\n",
      "Pakistan: 31100431380\n",
      "Jordan: 28373725337\n",
      "Iraq: 21589505801\n",
      "Kenya: 18160258334\n",
      "Nigeria: 16749723233\n",
      "Ethiopia: 16061626752\n",
      "Tanzania: 14612150094\n",
      "South Africa: 13720214108\n",
      "Uganda: 13381131805\n",
      "Colombia: 12554734996\n",
      "Zambia: 11183558000\n",
      "Mozambique: 11175283000\n",
      "West Bank and Gaza: 10318788338\n",
      "Haiti: 9624111000\n",
      "Sudan: 7920202000\n",
      "Congo (Kinshasa): 7616409023\n",
      "Ukraine: 7257445498\n"
     ]
    }
   ],
   "source": [
    "#now i'm sorting my dictionary to see which country gets most aid\n",
    "sorted_dict = {k: v for k, v in sorted(dct1.items(), reverse=True, key=lambda item: item[1])}\n",
    "\n",
    "for index, element in zip(range(20), sorted_dict):\n",
    "    print(element+\": \"+str(sorted_dict[element]))"
   ]
  },
  {
   "cell_type": "code",
   "execution_count": 46,
   "id": "2b84565d",
   "metadata": {},
   "outputs": [
    {
     "data": {
      "text/html": [
       "<div>\n",
       "<style scoped>\n",
       "    .dataframe tbody tr th:only-of-type {\n",
       "        vertical-align: middle;\n",
       "    }\n",
       "\n",
       "    .dataframe tbody tr th {\n",
       "        vertical-align: top;\n",
       "    }\n",
       "\n",
       "    .dataframe thead th {\n",
       "        text-align: right;\n",
       "    }\n",
       "</style>\n",
       "<table border=\"1\" class=\"dataframe\">\n",
       "  <thead>\n",
       "    <tr style=\"text-align: right;\">\n",
       "      <th></th>\n",
       "      <th>Country Name</th>\n",
       "      <th>Income Group ID</th>\n",
       "      <th>US Category Name</th>\n",
       "      <th>Fiscal Year</th>\n",
       "      <th>current_amount</th>\n",
       "      <th>post_afg_war</th>\n",
       "    </tr>\n",
       "  </thead>\n",
       "  <tbody>\n",
       "    <tr>\n",
       "      <th>0</th>\n",
       "      <td>Afghanistan</td>\n",
       "      <td>1.0</td>\n",
       "      <td>Education and Social Services</td>\n",
       "      <td>2022</td>\n",
       "      <td>33000000</td>\n",
       "      <td>True</td>\n",
       "    </tr>\n",
       "    <tr>\n",
       "      <th>1</th>\n",
       "      <td>Afghanistan</td>\n",
       "      <td>1.0</td>\n",
       "      <td>Education and Social Services</td>\n",
       "      <td>2022</td>\n",
       "      <td>17000000</td>\n",
       "      <td>True</td>\n",
       "    </tr>\n",
       "    <tr>\n",
       "      <th>2</th>\n",
       "      <td>Afghanistan</td>\n",
       "      <td>1.0</td>\n",
       "      <td>Health</td>\n",
       "      <td>2022</td>\n",
       "      <td>2000000</td>\n",
       "      <td>True</td>\n",
       "    </tr>\n",
       "    <tr>\n",
       "      <th>3</th>\n",
       "      <td>Afghanistan</td>\n",
       "      <td>1.0</td>\n",
       "      <td>Health</td>\n",
       "      <td>2022</td>\n",
       "      <td>8000000</td>\n",
       "      <td>True</td>\n",
       "    </tr>\n",
       "    <tr>\n",
       "      <th>4</th>\n",
       "      <td>Afghanistan</td>\n",
       "      <td>1.0</td>\n",
       "      <td>Health</td>\n",
       "      <td>2022</td>\n",
       "      <td>16700000</td>\n",
       "      <td>True</td>\n",
       "    </tr>\n",
       "    <tr>\n",
       "      <th>...</th>\n",
       "      <td>...</td>\n",
       "      <td>...</td>\n",
       "      <td>...</td>\n",
       "      <td>...</td>\n",
       "      <td>...</td>\n",
       "      <td>...</td>\n",
       "    </tr>\n",
       "    <tr>\n",
       "      <th>52853</th>\n",
       "      <td>Kosovo</td>\n",
       "      <td>2.0</td>\n",
       "      <td>Peace and Security</td>\n",
       "      <td>2021</td>\n",
       "      <td>1000000</td>\n",
       "      <td>True</td>\n",
       "    </tr>\n",
       "    <tr>\n",
       "      <th>52880</th>\n",
       "      <td>Kosovo</td>\n",
       "      <td>2.0</td>\n",
       "      <td>Peace and Security</td>\n",
       "      <td>2021</td>\n",
       "      <td>750000</td>\n",
       "      <td>True</td>\n",
       "    </tr>\n",
       "    <tr>\n",
       "      <th>52947</th>\n",
       "      <td>Kosovo</td>\n",
       "      <td>2.0</td>\n",
       "      <td>Peace and Security</td>\n",
       "      <td>2021</td>\n",
       "      <td>900000</td>\n",
       "      <td>True</td>\n",
       "    </tr>\n",
       "    <tr>\n",
       "      <th>53001</th>\n",
       "      <td>Kosovo</td>\n",
       "      <td>2.0</td>\n",
       "      <td>Economic Development</td>\n",
       "      <td>2021</td>\n",
       "      <td>500000</td>\n",
       "      <td>True</td>\n",
       "    </tr>\n",
       "    <tr>\n",
       "      <th>53046</th>\n",
       "      <td>Kosovo</td>\n",
       "      <td>2.0</td>\n",
       "      <td>Multi-sector</td>\n",
       "      <td>2021</td>\n",
       "      <td>6250000</td>\n",
       "      <td>True</td>\n",
       "    </tr>\n",
       "  </tbody>\n",
       "</table>\n",
       "<p>2914 rows × 6 columns</p>\n",
       "</div>"
      ],
      "text/plain": [
       "      Country Name  Income Group ID               US Category Name  \\\n",
       "0      Afghanistan              1.0  Education and Social Services   \n",
       "1      Afghanistan              1.0  Education and Social Services   \n",
       "2      Afghanistan              1.0                         Health   \n",
       "3      Afghanistan              1.0                         Health   \n",
       "4      Afghanistan              1.0                         Health   \n",
       "...            ...              ...                            ...   \n",
       "52853       Kosovo              2.0             Peace and Security   \n",
       "52880       Kosovo              2.0             Peace and Security   \n",
       "52947       Kosovo              2.0             Peace and Security   \n",
       "53001       Kosovo              2.0           Economic Development   \n",
       "53046       Kosovo              2.0                   Multi-sector   \n",
       "\n",
       "       Fiscal Year  current_amount  post_afg_war  \n",
       "0             2022        33000000          True  \n",
       "1             2022        17000000          True  \n",
       "2             2022         2000000          True  \n",
       "3             2022         8000000          True  \n",
       "4             2022        16700000          True  \n",
       "...            ...             ...           ...  \n",
       "52853         2021         1000000          True  \n",
       "52880         2021          750000          True  \n",
       "52947         2021          900000          True  \n",
       "53001         2021          500000          True  \n",
       "53046         2021         6250000          True  \n",
       "\n",
       "[2914 rows x 6 columns]"
      ]
     },
     "execution_count": 46,
     "metadata": {},
     "output_type": "execute_result"
    }
   ],
   "source": [
    "#since afghanistan is at 2nd place after Israel\n",
    "#I'm going to create another feature:\n",
    "#if year is > 2020 than we are post afghan war (not super accurate).\n",
    "#let add the feature:\n",
    "foreign[\"post_afg_war\"] = foreign['Fiscal Year']>2020\n",
    "foreign2 = foreign[foreign[\"post_afg_war\"]]\n",
    "foreign2"
   ]
  },
  {
   "cell_type": "code",
   "execution_count": 48,
   "id": "8f6230af",
   "metadata": {},
   "outputs": [
    {
     "name": "stdout",
     "output_type": "stream",
     "text": [
      "Israel: 6600000000\n",
      "Egypt: 2812150000\n",
      "Jordan: 2550000000\n",
      "Middle East and North Africa Region: 1299100000\n",
      "Sub-Saharan Africa Region: 1225195000\n",
      "Nigeria: 1068000000\n",
      "Mozambique: 994550000\n",
      "Tanzania: 900350000\n",
      "Colombia: 866750000\n",
      "Uganda: 845357000\n",
      "Kenya: 835650000\n",
      "Zambia: 792291000\n",
      "Ukraine: 775800000\n",
      "Afghanistan: 735600000\n",
      "South Africa: 675300000\n",
      "Ethiopia: 582320000\n",
      "Iraq: 573000000\n",
      "Congo (Kinshasa): 572200000\n",
      "Western Hemisphere Region: 568938000\n",
      "Central America Region: 496850000\n"
     ]
    }
   ],
   "source": [
    "#lets see if afghanistan is at 2nd place since war ended\n",
    "\n",
    "dct6 = {}\n",
    "for index, row in foreign2.iterrows():\n",
    "    if row['Country Name'] not in dct6.keys() and row['Country Name']!='World':\n",
    "        dct6[row['Country Name']]=foreign2.loc[(foreign2['Country Name'] == row['Country Name']), 'current_amount'].sum()\n",
    "        \n",
    "#sorting the dictionary:\n",
    "sorted_dict2 = {k: v for k, v in sorted(dct6.items(), reverse=True, key=lambda item: item[1])}\n",
    "\n",
    "for index, element in zip(range(20), sorted_dict2):\n",
    "    print(element+\": \"+str(sorted_dict2[element]))"
   ]
  },
  {
   "cell_type": "code",
   "execution_count": null,
   "id": "4aab3e1f",
   "metadata": {},
   "outputs": [],
   "source": [
    "#Afghanistan aid went down significantly since war ended!"
   ]
  },
  {
   "cell_type": "code",
   "execution_count": 50,
   "id": "3698cfe0",
   "metadata": {},
   "outputs": [
    {
     "data": {
      "text/plain": [
       "{1.0: 216849006928, 3.0: 112817641421, 2.0: 205902362888, 4.0: 92061265385}"
      ]
     },
     "execution_count": 50,
     "metadata": {},
     "output_type": "execute_result"
    }
   ],
   "source": [
    "#Now to answer the main question, does US helps poor countries more than rich countries:\n",
    "\n",
    "dct3 = {}\n",
    "for index, row in foreign.iterrows():\n",
    "    if row['Income Group ID'] not in dct3.keys() and row['Income Group ID'] >0.1:\n",
    "        dct3[row['Income Group ID']]=foreign.loc[foreign['Income Group ID'] == row['Income Group ID'], 'current_amount'].sum()\n",
    "dct3"
   ]
  },
  {
   "cell_type": "code",
   "execution_count": null,
   "id": "61c0a7ed",
   "metadata": {},
   "outputs": [],
   "source": [
    "#seems like it is. "
   ]
  },
  {
   "cell_type": "code",
   "execution_count": 53,
   "id": "c9f9eab4",
   "metadata": {},
   "outputs": [
    {
     "data": {
      "text/plain": [
       "{1.0: 216849006928, 2.0: 205902362888, 3.0: 112817641421, 4.0: 92061265385}"
      ]
     },
     "execution_count": 53,
     "metadata": {},
     "output_type": "execute_result"
    }
   ],
   "source": [
    "#let's sort the dictionary and make sure poor countries-numbered \"1\", are getting more aid than richer countries\n",
    "\n",
    "{k: v for k, v in sorted(dct3.items(), reverse=True, key=lambda item: item[1])}"
   ]
  },
  {
   "cell_type": "code",
   "execution_count": 59,
   "id": "edd85f90",
   "metadata": {},
   "outputs": [
    {
     "data": {
      "text/plain": [
       "<BarContainer object of 4 artists>"
      ]
     },
     "execution_count": 59,
     "metadata": {},
     "output_type": "execute_result"
    },
    {
     "data": {
      "image/png": "[encoded data removed]",
      "text/plain": [
       "<Figure size 432x288 with 1 Axes>"
      ]
     },
     "metadata": {
      "needs_background": "light"
     },
     "output_type": "display_data"
    }
   ],
   "source": [
    "#lets see it in graph:\n",
    "import matplotlib.pylab as plt\n",
    "\n",
    "names, counts = zip(*dct3.items())\n",
    "plt.bar(names, counts)"
   ]
  },
  {
   "cell_type": "code",
   "execution_count": 61,
   "id": "6dfe51db",
   "metadata": {},
   "outputs": [
    {
     "data": {
      "text/plain": [
       "{1.0: 216849006928, 2.0: 205902362888, 3.0: 112817641421, 4.0: 2782405385}"
      ]
     },
     "execution_count": 61,
     "metadata": {},
     "output_type": "execute_result"
    }
   ],
   "source": [
    "#Because Israel is an exception of a wealthy country who gets alot of aid\n",
    "#Let's create another dictionary, and decrease Israel aid afterwards to see the numbers:\n",
    "\n",
    "dct4 = dct3\n",
    "\n",
    "#now I am going to reduce Israel and see the major change: \n",
    "\n",
    "dct4[4.0]-=foreign.loc[foreign['Country Name'] == 'Israel', 'current_amount'].sum()\n",
    "\n",
    "#sorting the dictionary:\n",
    "\n",
    "{k: v for k, v in sorted(dct4.items(), reverse=True, key=lambda item: item[1])}"
   ]
  },
  {
   "cell_type": "code",
   "execution_count": 63,
   "id": "e83fbbdc",
   "metadata": {},
   "outputs": [
    {
     "data": {
      "text/plain": [
       "<BarContainer object of 4 artists>"
      ]
     },
     "execution_count": 63,
     "metadata": {},
     "output_type": "execute_result"
    },
    {
     "data": {
      "image/png": "[encoded data removed]",
      "text/plain": [
       "<Figure size 432x288 with 1 Axes>"
      ]
     },
     "metadata": {
      "needs_background": "light"
     },
     "output_type": "display_data"
    }
   ],
   "source": [
    "#most aid USA gave to wealthy countries went to Israel!\n",
    "#now lets see the new graph, to see how much aid wealthy countries got after we took out Israel:\n",
    "\n",
    "names, counts = zip(*dct4.items())\n",
    "plt.bar(names, counts)"
   ]
  },
  {
   "cell_type": "code",
   "execution_count": null,
   "id": "91b6e189",
   "metadata": {},
   "outputs": [],
   "source": [
    "#Ok, not most aid for wealthy countries went to Israel, but ALMOST ALL AID. "
   ]
  },
  {
   "cell_type": "code",
   "execution_count": null,
   "id": "6b526048",
   "metadata": {},
   "outputs": [],
   "source": [
    "#so it seems US does help poor countries more than wealthy countries, nice to see that.\n",
    "#it's also nice to see how much US is helping out Israel.\n",
    "#Thank you for the interesting course Danny and Gilad."
   ]
  }
 ],
 "metadata": {
  "kernelspec": {
   "display_name": "Python 3 (ipykernel)",
   "language": "python",
   "name": "python3"
  },
  "language_info": {
   "codemirror_mode": {
    "name": "ipython",
    "version": 3
   },
   "file_extension": ".py",
   "mimetype": "text/x-python",
   "name": "python",
   "nbconvert_exporter": "python",
   "pygments_lexer": "ipython3",
   "version": "3.9.7"
  }
 },
 "nbformat": 4,
 "nbformat_minor": 5
}
