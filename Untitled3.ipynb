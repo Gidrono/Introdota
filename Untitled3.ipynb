{
 "cells": [
  {
   "cell_type": "code",
   "execution_count": 4,
   "id": "2be4d717",
   "metadata": {},
   "outputs": [],
   "source": [
    "import csv\n",
    "from pathlib import Path"
   ]
  },
  {
   "cell_type": "code",
   "execution_count": 7,
   "id": "c94bd337",
   "metadata": {},
   "outputs": [
    {
     "data": {
      "text/plain": [
       "WindowsPath('C:/Users/Gidi/Desktop/python')"
      ]
     },
     "execution_count": 7,
     "metadata": {},
     "output_type": "execute_result"
    }
   ],
   "source": [
    "Path.cwd()"
   ]
  },
  {
   "cell_type": "code",
   "execution_count": 33,
   "id": "f558ccf3",
   "metadata": {},
   "outputs": [
    {
     "name": "stdout",
     "output_type": "stream",
     "text": [
      "['subgroup', 'modeldate', 'startdate', 'enddate', 'pollster', 'samplesize', 'approve', 'disapprove']\n",
      "['All polls', '01/01/2020', '1/20/2017', '1/22/2017', 'Gallup', '1500', '45', '45']\n",
      "['All polls', '01/01/2020', '1/20/2017', '1/22/2017', 'Morning Consult', '1992', '46', '37']\n",
      "['All polls', '01/01/2020', '1/20/2017', '1/24/2017', 'Ipsos', '1632', '42.1', '45.2']\n",
      "['All polls', '01/01/2020', '1/21/2017', '1/23/2017', 'Gallup', '1500', '45', '46']\n",
      "['All polls', '01/01/2020', '1/22/2017', '1/24/2017', 'Rasmussen Reports/Pulse Opinion Research', '1500', '57', '43']\n",
      "{'pollster': 1, 'Gallup': 409, 'Morning Consult': 342, 'Ipsos': 851, 'Rasmussen Reports/Pulse Opinion Research': 741, 'Quinnipiac University': 56, 'YouGov': 764, 'Public Policy Polling': 35, 'SurveyMonkey': 163, 'IBD/TIPP': 35, 'CNN/Opinion Research Corp.': 3, 'CBS News': 18, 'Zogby Analytics': 23, 'McLaughlin & Associates': 28, 'Emerson College': 20, 'Pew Research Center': 23, 'Fox News': 31, 'Harris Poll': 37, 'Kaiser Family Foundation': 31, 'Marist College': 35, 'American Research Group': 35, 'NBC News/Wall Street Journal': 30, 'Suffolk University': 13, 'Monmouth University': 21, 'Garin-Hart-Yang/Global Strategy Group': 5, 'Saint Leo University': 10, 'icitizen': 42, 'AP-NORC': 23, 'CNBC/Hart Research/Public Opinion Strategies': 12, 'USC Dornsife/LA Times': 5, 'ABC News/Washington Post': 15, 'Gravis Marketing': 2, 'GQR Research': 14, 'Selzer & Co.': 4, 'SurveyUSA': 1, 'CNN/SSRS': 28, 'George Washington University/Battleground': 2, 'Opinion Savvy': 1, 'Lucid': 18, 'Cards Against Humanity/Survey Sampling International': 10, 'University of Maryland/Washington Post': 1, 'Public Religion Research Institute': 4, 'Tarrance Group': 3, 'America First Policies': 1, 'Global Strategy Group/GBAO': 19, 'Washington Post/George Mason University': 1, 'HarrisX': 419, 'Vox Populi Polling': 1, 'Civiqs': 4, 'Heart+Mind Strategies': 1, 'The Washington Post': 1, 'Civis Analytics': 2, 'Research Co.': 1, 'Public Opinion Strategies': 1, 'D-CYFOR': 1, 'GBAO': 3, 'PSB Research': 1, 'Georgetown University/Battleground': 2, 'Climate Nexus': 2, 'Hart Research Associates': 1, 'Cygnal': 1, 'YouGov Blue/Data for Progress': 1, 'Basswood Research': 1, 'Washington Post/Kaiser Family Foundation': 1, 'YouGov Blue': 1, 'Marquette Law School': 1, 'RealClear Opinion Research': 1}\n"
     ]
    }
   ],
   "source": [
    "with open(r'polls.csv', encoding=\"UTF8\") as polls:\n",
    "    #next(polls)\n",
    "    reader = csv.reader(polls)\n",
    "    counter = 0\n",
    "    dct1 = {}\n",
    "    for i in reader:\n",
    "        if counter < 6:\n",
    "            print(i)\n",
    "        counter+=1\n",
    "        if i[4] not in dct1:\n",
    "            dct1[i[4]] = 1\n",
    "        elif i[4] in dct1:\n",
    "            dct1[i[4]] += 1\n",
    "    print(dct1)"
   ]
  },
  {
   "cell_type": "code",
   "execution_count": 54,
   "id": "6380f734",
   "metadata": {},
   "outputs": [
    {
     "data": {
      "text/plain": [
       "({'Gallup': 409,\n",
       "  'Morning Consult': 342,\n",
       "  'Ipsos': 851,\n",
       "  'Rasmussen Reports/Pulse Opinion Research': 741,\n",
       "  'Quinnipiac University': 56,\n",
       "  'YouGov': 764,\n",
       "  'Public Policy Polling': 35,\n",
       "  'SurveyMonkey': 163,\n",
       "  'IBD/TIPP': 35,\n",
       "  'CNN/Opinion Research Corp.': 3,\n",
       "  'CBS News': 18,\n",
       "  'Zogby Analytics': 23,\n",
       "  'McLaughlin & Associates': 28,\n",
       "  'Emerson College': 20,\n",
       "  'Pew Research Center': 23,\n",
       "  'Fox News': 31,\n",
       "  'Harris Poll': 37,\n",
       "  'Kaiser Family Foundation': 31,\n",
       "  'Marist College': 35,\n",
       "  'American Research Group': 35,\n",
       "  'NBC News/Wall Street Journal': 30,\n",
       "  'Suffolk University': 13,\n",
       "  'Monmouth University': 21,\n",
       "  'Garin-Hart-Yang/Global Strategy Group': 5,\n",
       "  'Saint Leo University': 10,\n",
       "  'icitizen': 42,\n",
       "  'AP-NORC': 23,\n",
       "  'CNBC/Hart Research/Public Opinion Strategies': 12,\n",
       "  'USC Dornsife/LA Times': 5,\n",
       "  'ABC News/Washington Post': 15,\n",
       "  'Gravis Marketing': 2,\n",
       "  'GQR Research': 14,\n",
       "  'Selzer & Co.': 4,\n",
       "  'SurveyUSA': 1,\n",
       "  'CNN/SSRS': 28,\n",
       "  'George Washington University/Battleground': 2,\n",
       "  'Opinion Savvy': 1,\n",
       "  'Lucid': 18,\n",
       "  'Cards Against Humanity/Survey Sampling International': 10,\n",
       "  'University of Maryland/Washington Post': 1,\n",
       "  'Public Religion Research Institute': 4,\n",
       "  'Tarrance Group': 3,\n",
       "  'America First Policies': 1,\n",
       "  'Global Strategy Group/GBAO': 19,\n",
       "  'Washington Post/George Mason University': 1,\n",
       "  'HarrisX': 419,\n",
       "  'Vox Populi Polling': 1,\n",
       "  'Civiqs': 4,\n",
       "  'Heart+Mind Strategies': 1,\n",
       "  'The Washington Post': 1,\n",
       "  'Civis Analytics': 2,\n",
       "  'Research Co.': 1,\n",
       "  'Public Opinion Strategies': 1,\n",
       "  'D-CYFOR': 1,\n",
       "  'GBAO': 3,\n",
       "  'PSB Research': 1,\n",
       "  'Georgetown University/Battleground': 2,\n",
       "  'Climate Nexus': 2,\n",
       "  'Hart Research Associates': 1,\n",
       "  'Cygnal': 1,\n",
       "  'YouGov Blue/Data for Progress': 1,\n",
       "  'Basswood Research': 1,\n",
       "  'Washington Post/Kaiser Family Foundation': 1,\n",
       "  'YouGov Blue': 1,\n",
       "  'Marquette Law School': 1,\n",
       "  'RealClear Opinion Research': 1},\n",
       " {'Gallup': -6862.0,\n",
       "  'Morning Consult': -3714.0,\n",
       "  'Ipsos': -12158.399999999985,\n",
       "  'Rasmussen Reports/Pulse Opinion Research': -3771.0,\n",
       "  'Quinnipiac University': -934.0,\n",
       "  'YouGov': -7976.700000000001,\n",
       "  'Public Policy Polling': -391.0,\n",
       "  'SurveyMonkey': -1781.0,\n",
       "  'IBD/TIPP': -573.0,\n",
       "  'CNN/Opinion Research Corp.': -35.0,\n",
       "  'CBS News': -287.0,\n",
       "  'Zogby Analytics': -139.0,\n",
       "  'McLaughlin & Associates': -97.4,\n",
       "  'Emerson College': -112.0,\n",
       "  'Pew Research Center': -457.0,\n",
       "  'Fox News': -260.0,\n",
       "  'Harris Poll': -376.0,\n",
       "  'Kaiser Family Foundation': -508.0,\n",
       "  'Marist College': -451.0,\n",
       "  'American Research Group': -661.0,\n",
       "  'NBC News/Wall Street Journal': -309.0,\n",
       "  'Suffolk University': -109.20000000000002,\n",
       "  'Monmouth University': -217.0,\n",
       "  'Garin-Hart-Yang/Global Strategy Group': -45.0,\n",
       "  'Saint Leo University': -110.30000000000001,\n",
       "  'icitizen': -1109.1,\n",
       "  'AP-NORC': -534.0,\n",
       "  'CNBC/Hart Research/Public Opinion Strategies': -128.0,\n",
       "  'USC Dornsife/LA Times': -91.0,\n",
       "  'ABC News/Washington Post': -276.0,\n",
       "  'Gravis Marketing': -24.0,\n",
       "  'GQR Research': -183.0,\n",
       "  'Selzer & Co.': -55.0,\n",
       "  'SurveyUSA': -14.0,\n",
       "  'CNN/SSRS': -439.0,\n",
       "  'George Washington University/Battleground': -39.0,\n",
       "  'Opinion Savvy': -24.0,\n",
       "  'Lucid': -297.32,\n",
       "  'Cards Against Humanity/Survey Sampling International': -106.0,\n",
       "  'University of Maryland/Washington Post': -52.0,\n",
       "  'Public Religion Research Institute': -77.0,\n",
       "  'Tarrance Group': -46.0,\n",
       "  'America First Policies': -18.0,\n",
       "  'Global Strategy Group/GBAO': -323.0,\n",
       "  'Washington Post/George Mason University': -24.0,\n",
       "  'HarrisX': -3474.0,\n",
       "  'Vox Populi Polling': -8.0,\n",
       "  'Civiqs': -49.0,\n",
       "  'Heart+Mind Strategies': -6.0,\n",
       "  'The Washington Post': -26.0,\n",
       "  'Civis Analytics': -32.0,\n",
       "  'Research Co.': -40.0,\n",
       "  'Public Opinion Strategies': -14.0,\n",
       "  'D-CYFOR': -16.0,\n",
       "  'GBAO': -63.0,\n",
       "  'PSB Research': -32.0,\n",
       "  'Georgetown University/Battleground': -28.0,\n",
       "  'Climate Nexus': -33.0,\n",
       "  'Hart Research Associates': -24.0,\n",
       "  'Cygnal': -27.200000000000003,\n",
       "  'YouGov Blue/Data for Progress': -20.0,\n",
       "  'Basswood Research': -1.7999999999999972,\n",
       "  'Washington Post/Kaiser Family Foundation': -52.0,\n",
       "  'YouGov Blue': -24.0,\n",
       "  'Marquette Law School': -40.0,\n",
       "  'RealClear Opinion Research': -28.0})"
      ]
     },
     "execution_count": 54,
     "metadata": {},
     "output_type": "execute_result"
    }
   ],
   "source": [
    "import csv\n",
    "from pathlib import Path\n",
    "def analyze_polls(path):\n",
    "    with open(path, encoding=\"UTF8\") as polls:\n",
    "        next(polls)\n",
    "        reader = csv.reader(polls)\n",
    "        counter = 0\n",
    "        dct1 = {}\n",
    "        dct2 = {}\n",
    "        for i in reader:\n",
    "            if i[4] not in dct1:\n",
    "                dct1[i[4]] = 1\n",
    "            elif i[4] in dct1:\n",
    "                dct1[i[4]] += 1\n",
    "            if i[4] not in dct2:\n",
    "                dct2[i[4]] = float(i[6])-float(i[7])\n",
    "            if i[4] in dct2:\n",
    "                dct2[i[4]] += float(i[6])-float(i[7])\n",
    "        return dct1, dct2\n",
    "analyze_polls(r'polls.csv')"
   ]
  },
  {
   "cell_type": "code",
   "execution_count": 73,
   "id": "097280b1",
   "metadata": {},
   "outputs": [
    {
     "data": {
      "text/plain": [
       "({'female': 339, 'male': 161},\n",
       " {'Miss': 176,\n",
       "  'Master': 33,\n",
       "  'Mr': 120,\n",
       "  'Mrs': 153,\n",
       "  'Mme': 3,\n",
       "  'Dr': 6,\n",
       "  'Gordon': 4,\n",
       "  'Col': 4,\n",
       "  'Mlle': 4,\n",
       "  '': 8,\n",
       "  'Major': 3,\n",
       "  'th': 3,\n",
       "  'Carlo': 3,\n",
       "  'Ms': 3,\n",
       "  'Khalil': 3,\n",
       "  'Messemaeker': 4,\n",
       "  'Mulder': 3,\n",
       "  'Palmquist': 3})"
      ]
     },
     "execution_count": 73,
     "metadata": {},
     "output_type": "execute_result"
    }
   ],
   "source": [
    "import csv\n",
    "from pathlib import Path\n",
    "def analyze_polls(path):\n",
    "    with open(path, encoding=\"UTF8\") as polls:\n",
    "        next(polls)\n",
    "        reader = csv.reader(polls)\n",
    "        counter = 0\n",
    "        dct1 = {}\n",
    "        dct2 = {}\n",
    "        for i in reader:\n",
    "            if i[3] not in dct1 and int(i[1])==1:\n",
    "                dct1[i[3]] = 1\n",
    "            elif i[3] in dct1 and int(i[1])==1:\n",
    "                dct1[i[3]] += 1\n",
    "            if i[2].split()[1][:-1] not in dct2 and int(i[1])==1:\n",
    "                dct2[i[2].split()[1][:-1]] = 3\n",
    "            elif i[2].split()[1][:-1] in dct2 and int(i[1])==1:\n",
    "                dct2[i[2].split()[1][:-1]] += 1\n",
    "        return dct1, dct2\n",
    "analyze_polls(r'titanic.csv')"
   ]
  },
  {
   "cell_type": "code",
   "execution_count": 74,
   "id": "cbd54aa5",
   "metadata": {},
   "outputs": [
    {
     "data": {
      "text/plain": [
       "({'female': 339, 'male': 161},\n",
       " {'Miss': 176,\n",
       "  'Master': 31,\n",
       "  'Mr': 123,\n",
       "  'Mrs': 155,\n",
       "  'Mme': 1,\n",
       "  'Dr': 4,\n",
       "  'Lady': 1,\n",
       "  'Sir': 1,\n",
       "  'Col': 2,\n",
       "  'Mlle': 2,\n",
       "  'Dona': 1,\n",
       "  'Major': 1,\n",
       "  'the Countess': 1,\n",
       "  'Ms': 1})"
      ]
     },
     "execution_count": 74,
     "metadata": {},
     "output_type": "execute_result"
    }
   ],
   "source": [
    "import csv\n",
    "def survived_titanic (path):\n",
    "    with open (path) as f:\n",
    "        read = csv.DictReader(f)\n",
    "        gender = {}\n",
    "        title = {}\n",
    "\n",
    "        for row in read:\n",
    "            if row[\"survived\"] == \"1\":\n",
    "                if row[\"sex\"] not in gender:\n",
    "                    gender[row[\"sex\"]] = 1\n",
    "                else:\n",
    "                    gender[row[\"sex\"]] += 1\n",
    "\n",
    "                row[\"name\"] = row[\"name\"].split(',')[1].split('.')[0].strip(\" \")\n",
    "                if row[\"name\"] not in title:\n",
    "                    title[row[\"name\"]] = 1\n",
    "                else:\n",
    "                    title[row[\"name\"]] += 1\n",
    "        return (gender, title)\n",
    "survived_titanic('titanic.csv')"
   ]
  }
 ],
 "metadata": {
  "kernelspec": {
   "display_name": "Python 3 (ipykernel)",
   "language": "python",
   "name": "python3"
  },
  "language_info": {
   "codemirror_mode": {
    "name": "ipython",
    "version": 3
   },
   "file_extension": ".py",
   "mimetype": "text/x-python",
   "name": "python",
   "nbconvert_exporter": "python",
   "pygments_lexer": "ipython3",
   "version": "3.9.7"
  }
 },
 "nbformat": 4,
 "nbformat_minor": 5
}
