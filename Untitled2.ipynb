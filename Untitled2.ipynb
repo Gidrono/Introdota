{
 "cells": [
  {
   "cell_type": "code",
   "execution_count": 1,
   "metadata": {},
   "outputs": [],
   "source": [
    "from pathlib import Path\n",
    "import csv"
   ]
  },
  {
   "cell_type": "code",
   "execution_count": 14,
   "metadata": {},
   "outputs": [
    {
     "name": "stdout",
     "output_type": "stream",
     "text": [
      "['Film', 'Year', 'Actor', 'Director', 'Box Office', 'Budget', 'Bond Actor Salary']\n",
      "['Dr. No', '1962', 'Sean Connery', 'Terence Young', '448.8', '7', '0.6']\n",
      "['From Russia with Love', '1963', 'Sean Connery', 'Terence Young', '543.8', '12.6', '1.6']\n",
      "['Goldfinger', '1964', 'Sean Connery', 'Guy Hamilton', '820.4', '18.6', '3.2']\n",
      "['Thunderball', '1965', 'Sean Connery', 'Terence Young', '848.1', '41.9', '4.7']\n",
      "['Casino Royale', '1967', 'David Niven', 'Ken Hughes', '315', '85', '']\n",
      "['You Only Live Twice', '1967', 'Sean Connery', 'Lewis Gilbert', '514.2', '59.9', '4.4']\n",
      "[\"On Her Majesty's Secret Service\", '1969', 'George Lazenby', 'Peter R. Hunt', '291.5', '37.3', '0.6']\n",
      "['Diamonds Are Forever', '1971', 'Sean Connery', 'Guy Hamilton', '442.5', '34.7', '5.8']\n",
      "['Live and Let Die', '1973', 'Roger Moore', 'Guy Hamilton', '460.3', '30.8', '']\n",
      "['The Man with the Golden Gun', '1974', 'Roger Moore', 'Guy Hamilton', '334', '27.7', '']\n",
      "['The Spy Who Loved Me', '1977', 'Roger Moore', 'Lewis Gilbert', '533', '45.1', '']\n",
      "['Moonraker', '1979', 'Roger Moore', 'Lewis Gilbert', '535', '91.5', '']\n",
      "['For Your Eyes Only', '1981', 'Roger Moor', 'John Glen', '449.4', '60.2', '']\n",
      "['Never Say Never Again', '1983', 'Sean Connery', 'Irvin Kershner', '380', '86', '']\n",
      "['Octopussy', '1983', 'Roger Moore', 'John Glen', '373.8', '53.9', '7.8']\n",
      "['A View to a Kill', '1985', 'Roger Moore', 'John Glen', '275.2', '54.5', '9.1']\n",
      "['The Living Daylights', '1987', 'Timothy Dalton', 'John Glen', '313.5', '68.8', '5.2']\n",
      "['Licence to Kill', '1989', 'Timothy Dalton', 'John Glen', '250.9', '56.7', '7.9']\n",
      "['GoldenEye', '1995', 'Pierce Brosnan', 'Martin Campbell', '518.5', '76.9', '5.1']\n",
      "['Tomorrow Never Dies', '1997', 'Pierce Brosnan', 'Roger Spottiswoode', '463.2', '133.9', '10']\n",
      "['The World Is Not Enough', '1999', 'Pierce Brosnan', 'Michael Apted', '439.5', '158.3', '13.5']\n",
      "['Die Another Day', '2002', 'Pierce Brosnan', 'Lee Tamahori', '465.4', '154.2', '17.9']\n",
      "['Casino Royale', '2006', 'Daniel Craig', 'Martin Campbell', '581.5', '145.3', '3.3']\n",
      "['Quantum of Solace', '2008', 'Daniel Craig', 'Marc Forster', '514.2', '181.4', '8.1']\n",
      "['Skyfall', '2012', 'Daniel Craig', 'Sam Mendes', '943.5', '170.2', '14.5']\n",
      "['Spectre', '2015', 'Daniel Craig', 'Sam Mendes', '726.7', '206.3', '']\n"
     ]
    }
   ],
   "source": [
    "Path.cwd()\n",
    "path = r\"/home/hanoch/Desktop/python/jamesbond.csv\"\n",
    "f = open(path)\n",
    "for i in csv.reader(f):\n",
    "    print( i)"
   ]
  },
  {
   "cell_type": "code",
   "execution_count": 39,
   "metadata": {},
   "outputs": [
    {
     "data": {
      "text/plain": [
       "(26, 80.72)"
      ]
     },
     "execution_count": 39,
     "metadata": {},
     "output_type": "execute_result"
    }
   ],
   "source": [
    "def read_bond(file_path):\n",
    "    with open(file_path) as emp:\n",
    "        next(emp)\n",
    "        count=0\n",
    "        budge=0\n",
    "        for i in csv.reader(emp):\n",
    "            count+=1\n",
    "            budge+=float(i[5])\n",
    "        return (count, round(budge/count, 2))\n",
    "read_bond(path)"
   ]
  },
  {
   "cell_type": "code",
   "execution_count": 48,
   "metadata": {},
   "outputs": [
    {
     "data": {
      "text/plain": [
       "'blue'"
      ]
     },
     "execution_count": 48,
     "metadata": {},
     "output_type": "execute_result"
    }
   ],
   "source": [
    "from collections import Counter\n",
    "z = ['red', 'blue', 'yellow', 'blue', 'red', 'blue']\n",
    "x= Counter(z)\n",
    "x.most_common()[0][0]"
   ]
  },
  {
   "cell_type": "code",
   "execution_count": 50,
   "metadata": {},
   "outputs": [
    {
     "data": {
      "text/plain": [
       "'Sean Connery'"
      ]
     },
     "execution_count": 50,
     "metadata": {},
     "output_type": "execute_result"
    }
   ],
   "source": [
    "def count_actors(file_path):\n",
    "    with open(file_path) as emp:\n",
    "        next(emp)\n",
    "        lst=[]\n",
    "        for i in csv.reader(emp):\n",
    "            lst.append(i[2])\n",
    "        y=Counter(lst)\n",
    "        \n",
    "        return y.most_common()[0][0]\n",
    "count_actors(path)\n"
   ]
  },
  {
   "cell_type": "code",
   "execution_count": 54,
   "metadata": {},
   "outputs": [
    {
     "data": {
      "text/plain": [
       "['Pierce Brosnan']"
      ]
     },
     "execution_count": 54,
     "metadata": {},
     "output_type": "execute_result"
    }
   ],
   "source": [
    "def actor_period(file_path, start, stop):\n",
    "    with open(file_path) as emp:\n",
    "        next(emp)\n",
    "        lst=[]\n",
    "        for i in csv.reader(emp):\n",
    "            if int(i[1])<start or int(i[1])>stop:\n",
    "                pass\n",
    "            else:\n",
    "                lst.append(i[2])\n",
    "        \n",
    "        \n",
    "        return list(set(lst))\n",
    "count_actors(path, 1990, 2000)\n"
   ]
  }
 ],
 "metadata": {
  "kernelspec": {
   "display_name": "Python 3",
   "language": "python",
   "name": "python3"
  },
  "language_info": {
   "codemirror_mode": {
    "name": "ipython",
    "version": 3
   },
   "file_extension": ".py",
   "mimetype": "text/x-python",
   "name": "python",
   "nbconvert_exporter": "python",
   "pygments_lexer": "ipython3",
   "version": "3.8.3"
  }
 },
 "nbformat": 4,
 "nbformat_minor": 4
}
