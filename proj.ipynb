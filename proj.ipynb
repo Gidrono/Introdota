{
 "cells": [
  {
   "cell_type": "code",
   "execution_count": 2,
   "id": "b585e569",
   "metadata": {},
   "outputs": [],
   "source": [
    "import pandas as pd"
   ]
  },
  {
   "cell_type": "code",
   "execution_count": 9,
   "id": "e51ee9fa",
   "metadata": {},
   "outputs": [
    {
     "name": "stdout",
     "output_type": "stream",
     "text": [
      "<class 'pandas.core.frame.DataFrame'>\n",
      "RangeIndex: 168426 entries, 0 to 168425\n",
      "Data columns (total 8 columns):\n",
      " #   Column      Non-Null Count   Dtype \n",
      "---  ------      --------------   ----- \n",
      " 0   name        168381 non-null  object\n",
      " 1   status      168426 non-null  object\n",
      " 2   gender      168426 non-null  object\n",
      " 3   province    168426 non-null  object\n",
      " 4   birthplace  153395 non-null  object\n",
      " 5   deathdate   168426 non-null  object\n",
      " 6   deathcause  168426 non-null  object\n",
      " 7   actor       42970 non-null   object\n",
      "dtypes: object(8)\n",
      "memory usage: 10.3+ MB\n"
     ]
    }
   ],
   "source": [
    "fortune = pd.read_csv(\"VDC_Syria_CASREP.csv\")\n",
    "\n",
    "fortune.info()"
   ]
  }
 ],
 "metadata": {
  "kernelspec": {
   "display_name": "Python 3 (ipykernel)",
   "language": "python",
   "name": "python3"
  },
  "language_info": {
   "codemirror_mode": {
    "name": "ipython",
    "version": 3
   },
   "file_extension": ".py",
   "mimetype": "text/x-python",
   "name": "python",
   "nbconvert_exporter": "python",
   "pygments_lexer": "ipython3",
   "version": "3.9.7"
  }
 },
 "nbformat": 4,
 "nbformat_minor": 5
}
