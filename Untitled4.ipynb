{
 "cells": [
  {
   "cell_type": "code",
   "execution_count": 6,
   "id": "3206cdb9",
   "metadata": {},
   "outputs": [],
   "source": [
    "class Person:\n",
    "    def __init__(self, name, job, salary, gender=\"male\"):\n",
    "        self.name = name\n",
    "        self.job = job\n",
    "        if gender==\"female\":\n",
    "            self.salary = salary*0.72\n",
    "        else:\n",
    "            self.salary = salary\n",
    "        self.gender = gender\n",
    "    def get_raise(self, n):\n",
    "        self.salary+=n*self.salary\n",
    "    def __str__(self):\n",
    "        return f'{self.name} is a {self.gender} who works as a {self.job} and earns {self.salary}'\n"
   ]
  },
  {
   "cell_type": "code",
   "execution_count": 14,
   "id": "8946b638",
   "metadata": {},
   "outputs": [
    {
     "name": "stdout",
     "output_type": "stream",
     "text": [
      "650.0\n"
     ]
    }
   ],
   "source": [
    "class Person:\n",
    "    def __init__(self, name, job, salary, gender=\"male\"):\n",
    "        self.name = name\n",
    "        self.job = job\n",
    "        if gender==\"female\":\n",
    "            self.salary = salary*0.72\n",
    "        else:\n",
    "            self.salary = salary\n",
    "        self.gender = gender\n",
    "    def get_raise(self, n):\n",
    "        self.salary+=n*self.salary\n",
    "    def __str__(self):\n",
    "        return f'{self.name} is a {self.gender} who works as a {self.job} and earns {self.salary}'\n",
    "\n",
    "class Manager(Person):\n",
    "    def __init__(self, name, job, salary, gender=\"male\"):\n",
    "        Person.__init__(self, name, job, salary, gender=\"male\")\n",
    "    def get_raise(self, n, bonus=0.1):\n",
    "        self.salary+=n*self.salary+bonus*self.salary\n",
    "        #self.salary+=bonus*self.salary\n",
    "donald = Manager('Donald Duck', 'sailor', 500, 'male')\n",
    "donald.get_raise(0.1, 0.2)\n",
    "print(donald.salary)"
   ]
  }
 ],
 "metadata": {
  "kernelspec": {
   "display_name": "Python 3 (ipykernel)",
   "language": "python",
   "name": "python3"
  },
  "language_info": {
   "codemirror_mode": {
    "name": "ipython",
    "version": 3
   },
   "file_extension": ".py",
   "mimetype": "text/x-python",
   "name": "python",
   "nbconvert_exporter": "python",
   "pygments_lexer": "ipython3",
   "version": "3.9.7"
  }
 },
 "nbformat": 4,
 "nbformat_minor": 5
}
