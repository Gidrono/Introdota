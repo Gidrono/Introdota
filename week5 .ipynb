{
 "cells": [
  {
   "cell_type": "code",
   "execution_count": null,
   "id": "7ba0c4ff",
   "metadata": {},
   "outputs": [],
   "source": [
    "list(1,2,3,4)"
   ]
  },
  {
   "cell_type": "code",
   "execution_count": 1,
   "id": "711b2371",
   "metadata": {},
   "outputs": [
    {
     "data": {
      "text/plain": [
       "dict"
      ]
     },
     "execution_count": 1,
     "metadata": {},
     "output_type": "execute_result"
    }
   ],
   "source": [
    "dct = {\"a\":1, \"b\":2, \"c\":3}\n",
    "type(dct)"
   ]
  },
  {
   "cell_type": "code",
   "execution_count": 2,
   "id": "955ea748",
   "metadata": {},
   "outputs": [
    {
     "data": {
      "text/plain": [
       "{'a': 1, 'b': 2, 'c': 3}"
      ]
     },
     "execution_count": 2,
     "metadata": {},
     "output_type": "execute_result"
    }
   ],
   "source": [
    "dct1 = dict(a=1,b=2,c=3)\n",
    "dct1"
   ]
  },
  {
   "cell_type": "code",
   "execution_count": 3,
   "id": "61a16e74",
   "metadata": {},
   "outputs": [
    {
     "data": {
      "text/plain": [
       "1"
      ]
     },
     "execution_count": 3,
     "metadata": {},
     "output_type": "execute_result"
    }
   ],
   "source": [
    "dct[\"a\"]"
   ]
  },
  {
   "cell_type": "code",
   "execution_count": 5,
   "id": "aae53fad",
   "metadata": {},
   "outputs": [
    {
     "data": {
      "text/plain": [
       "{'a': 67, 'b': 2, 'c': 3}"
      ]
     },
     "execution_count": 5,
     "metadata": {},
     "output_type": "execute_result"
    }
   ],
   "source": [
    "dct2 = {\"a\":1, \"b\":2, \"c\":3, \"a\":67}\n",
    "dct2"
   ]
  },
  {
   "cell_type": "code",
   "execution_count": 9,
   "id": "1d489361",
   "metadata": {},
   "outputs": [
    {
     "data": {
      "text/plain": [
       "4"
      ]
     },
     "execution_count": 9,
     "metadata": {},
     "output_type": "execute_result"
    }
   ],
   "source": [
    "dct3 = {\"a\":[1,2,3,4], \"b\":5}\n",
    "dct3[\"a\"][-1]"
   ]
  },
  {
   "cell_type": "code",
   "execution_count": 8,
   "id": "7acb8db2",
   "metadata": {},
   "outputs": [
    {
     "data": {
      "text/plain": [
       "{'a': 567, 'b': 2, 'c': 3}"
      ]
     },
     "execution_count": 8,
     "metadata": {},
     "output_type": "execute_result"
    }
   ],
   "source": [
    "dct[\"a\"]=567\n",
    "dct"
   ]
  },
  {
   "cell_type": "code",
   "execution_count": 10,
   "id": "4ba9e3ca",
   "metadata": {},
   "outputs": [],
   "source": [
    "dct.update(dct1)"
   ]
  },
  {
   "cell_type": "code",
   "execution_count": 11,
   "id": "143710fa",
   "metadata": {},
   "outputs": [
    {
     "data": {
      "text/plain": [
       "{'a': 1, 'b': 2, 'c': 3}"
      ]
     },
     "execution_count": 11,
     "metadata": {},
     "output_type": "execute_result"
    }
   ],
   "source": [
    "dct"
   ]
  },
  {
   "cell_type": "code",
   "execution_count": 12,
   "id": "b659262e",
   "metadata": {},
   "outputs": [],
   "source": [
    "dct5 = dict(f=\"python\")"
   ]
  },
  {
   "cell_type": "code",
   "execution_count": 13,
   "id": "9ff0a7a9",
   "metadata": {},
   "outputs": [
    {
     "data": {
      "text/plain": [
       "{'a': 1, 'b': 2, 'c': 3, 'f': 'python'}"
      ]
     },
     "execution_count": 13,
     "metadata": {},
     "output_type": "execute_result"
    }
   ],
   "source": [
    "dct.update(dct5)\n",
    "dct"
   ]
  },
  {
   "cell_type": "code",
   "execution_count": 14,
   "id": "0f2d124b",
   "metadata": {},
   "outputs": [
    {
     "data": {
      "text/plain": [
       "'python'"
      ]
     },
     "execution_count": 14,
     "metadata": {},
     "output_type": "execute_result"
    }
   ],
   "source": [
    "dct[\"f\"]"
   ]
  },
  {
   "cell_type": "code",
   "execution_count": 18,
   "id": "48a00c09",
   "metadata": {},
   "outputs": [
    {
     "data": {
      "text/plain": [
       "'not exist'"
      ]
     },
     "execution_count": 18,
     "metadata": {},
     "output_type": "execute_result"
    }
   ],
   "source": [
    "dct.get(\"aaaa\", \"not exist\")"
   ]
  },
  {
   "cell_type": "code",
   "execution_count": 24,
   "id": "a9fcf861",
   "metadata": {},
   "outputs": [],
   "source": [
    "dct7 = {\"grades\":[20,34,56,20,90,90,87,14,95,100,88]}\n",
    "#for i in sorted(dct7.get(\"grades\")):\n",
    " #   print(i)\n",
    "dct7.get(\"grades\").sort()"
   ]
  },
  {
   "cell_type": "code",
   "execution_count": 25,
   "id": "caa5ecfe",
   "metadata": {},
   "outputs": [
    {
     "data": {
      "text/plain": [
       "{'grades': [14, 20, 20, 34, 56, 87, 88, 90, 90, 95, 100]}"
      ]
     },
     "execution_count": 25,
     "metadata": {},
     "output_type": "execute_result"
    }
   ],
   "source": [
    "dct7"
   ]
  },
  {
   "cell_type": "code",
   "execution_count": 37,
   "id": "8ad91285",
   "metadata": {},
   "outputs": [],
   "source": [
    "cars = {\n",
    "    \"brand\": [\"Ford\",\"Renault\", \"Folkswagen\",\"Susita\"],\n",
    "    \"color\": \"white\"\n",
    "}"
   ]
  },
  {
   "cell_type": "code",
   "execution_count": 38,
   "id": "7c24d87a",
   "metadata": {},
   "outputs": [
    {
     "data": {
      "text/plain": [
       "{'brand': ['Ford', 'Renault', 'Folkswagen', 'Susita'],\n",
       " 'color': 'white',\n",
       " 'year': 1984}"
      ]
     },
     "execution_count": 38,
     "metadata": {},
     "output_type": "execute_result"
    }
   ],
   "source": [
    "cars.setdefault(\"year\", 1984)\n",
    "cars"
   ]
  },
  {
   "cell_type": "code",
   "execution_count": 31,
   "id": "5382615f",
   "metadata": {},
   "outputs": [
    {
     "data": {
      "text/plain": [
       "{'brand': 'Ford', 'color': 'white', 'year': 1984}"
      ]
     },
     "execution_count": 31,
     "metadata": {},
     "output_type": "execute_result"
    }
   ],
   "source": [
    "cars.setdefault(\"color\", \"orange\")\n",
    "cars"
   ]
  },
  {
   "cell_type": "code",
   "execution_count": 32,
   "id": "5da2c994",
   "metadata": {},
   "outputs": [
    {
     "data": {
      "text/plain": [
       "{'brand': 'Ford', 'color': 'white', 'year': 1984}"
      ]
     },
     "execution_count": 32,
     "metadata": {},
     "output_type": "execute_result"
    }
   ],
   "source": [
    "cars"
   ]
  },
  {
   "cell_type": "code",
   "execution_count": 39,
   "id": "fe022521",
   "metadata": {},
   "outputs": [
    {
     "name": "stdout",
     "output_type": "stream",
     "text": [
      "['Ford', 'Renault', 'Folkswagen', 'Susita']\n",
      "white\n",
      "1984\n"
     ]
    }
   ],
   "source": [
    "for i in cars.values():\n",
    "    print(i)"
   ]
  },
  {
   "cell_type": "code",
   "execution_count": 42,
   "id": "d45fb873",
   "metadata": {},
   "outputs": [
    {
     "name": "stdout",
     "output_type": "stream",
     "text": [
      "['Ford', 'Renault', 'Folkswagen', 'Susita']\n",
      "white\n",
      "1984\n"
     ]
    }
   ],
   "source": [
    "for i in cars.items():\n",
    "    print(i[1])"
   ]
  },
  {
   "cell_type": "code",
   "execution_count": 45,
   "id": "731ed2f9",
   "metadata": {},
   "outputs": [
    {
     "data": {
      "text/plain": [
       "{'name': 1, 'name2': 2}"
      ]
     },
     "execution_count": 45,
     "metadata": {},
     "output_type": "execute_result"
    }
   ],
   "source": [
    "def bar(**kwargs):\n",
    "    return kwargs\n",
    "dct9=bar(name=1, name2=2)"
   ]
  },
  {
   "cell_type": "code",
   "execution_count": 47,
   "id": "14eae546",
   "metadata": {},
   "outputs": [
    {
     "data": {
      "text/plain": [
       "[0, 1, 2, 4, 5, 7, 8]"
      ]
     },
     "execution_count": 47,
     "metadata": {},
     "output_type": "execute_result"
    }
   ],
   "source": [
    "lst = [1,2,5,8,4,7,0]\n",
    "lst.sort()\n",
    "lst"
   ]
  },
  {
   "cell_type": "code",
   "execution_count": 49,
   "id": "a53fb04c",
   "metadata": {},
   "outputs": [
    {
     "data": {
      "text/plain": [
       "[0, 1, 2, 4, 5, 7, 8]"
      ]
     },
     "execution_count": 49,
     "metadata": {},
     "output_type": "execute_result"
    }
   ],
   "source": [
    "sorted(lst, reverse=True)"
   ]
  },
  {
   "cell_type": "code",
   "execution_count": 50,
   "id": "079bdd7a",
   "metadata": {},
   "outputs": [
    {
     "data": {
      "text/plain": [
       "[8, 7, 5, 4, 2, 1, 0]"
      ]
     },
     "execution_count": 50,
     "metadata": {},
     "output_type": "execute_result"
    }
   ],
   "source": [
    "sorted(lst, reverse=True)"
   ]
  },
  {
   "cell_type": "code",
   "execution_count": 51,
   "id": "4e871cb5",
   "metadata": {},
   "outputs": [
    {
     "data": {
      "text/plain": [
       "['i', 'l', 'o', 'z']"
      ]
     },
     "execution_count": 51,
     "metadata": {},
     "output_type": "execute_result"
    }
   ],
   "source": [
    "sorted(\"lioz\")"
   ]
  },
  {
   "cell_type": "code",
   "execution_count": 58,
   "id": "62c5945c",
   "metadata": {},
   "outputs": [
    {
     "data": {
      "text/plain": [
       "{'a': 1, 'b': 2, 'c': 3}"
      ]
     },
     "execution_count": 58,
     "metadata": {},
     "output_type": "execute_result"
    }
   ],
   "source": [
    "dct1"
   ]
  },
  {
   "cell_type": "code",
   "execution_count": 62,
   "id": "be188341",
   "metadata": {},
   "outputs": [
    {
     "data": {
      "text/plain": [
       "[1, 2, 3]"
      ]
     },
     "execution_count": 62,
     "metadata": {},
     "output_type": "execute_result"
    }
   ],
   "source": [
    "sorted(dct1.values())"
   ]
  },
  {
   "cell_type": "code",
   "execution_count": 63,
   "id": "3d3097b6",
   "metadata": {},
   "outputs": [
    {
     "data": {
      "text/plain": [
       "[('a', 1), ('b', 2), ('c', 3)]"
      ]
     },
     "execution_count": 63,
     "metadata": {},
     "output_type": "execute_result"
    }
   ],
   "source": [
    "sorted(dct1.items())"
   ]
  },
  {
   "cell_type": "code",
   "execution_count": 79,
   "id": "5c143719",
   "metadata": {},
   "outputs": [
    {
     "data": {
      "text/plain": [
       "list"
      ]
     },
     "execution_count": 79,
     "metadata": {},
     "output_type": "execute_result"
    }
   ],
   "source": [
    "def get_key(item):\n",
    "    return item[0].lower()\n",
    "students = [(\"john\",\"A\", 15), (\"dave\",\"C\", 10), (\"JANE\", \"B\", 12)]\n",
    "type(students)"
   ]
  },
  {
   "cell_type": "code",
   "execution_count": 75,
   "id": "6251bd73",
   "metadata": {},
   "outputs": [
    {
     "data": {
      "text/plain": [
       "'C'"
      ]
     },
     "execution_count": 75,
     "metadata": {},
     "output_type": "execute_result"
    }
   ],
   "source": [
    "students[1][1]"
   ]
  },
  {
   "cell_type": "code",
   "execution_count": 68,
   "id": "04400763",
   "metadata": {},
   "outputs": [
    {
     "data": {
      "text/plain": [
       "[('JANE', 'B', 12), ('dave', 'B', 10), ('john', 'A', 15)]"
      ]
     },
     "execution_count": 68,
     "metadata": {},
     "output_type": "execute_result"
    }
   ],
   "source": [
    "sorted(students)"
   ]
  },
  {
   "cell_type": "code",
   "execution_count": 80,
   "id": "1d9385c2",
   "metadata": {},
   "outputs": [
    {
     "data": {
      "text/plain": [
       "[('john', 'A', 15), ('JANE', 'B', 12), ('dave', 'C', 10)]"
      ]
     },
     "execution_count": 80,
     "metadata": {},
     "output_type": "execute_result"
    }
   ],
   "source": [
    "sorted(students, key=get_key, reverse=True)"
   ]
  },
  {
   "cell_type": "code",
   "execution_count": 87,
   "id": "eac423c7",
   "metadata": {},
   "outputs": [
    {
     "name": "stdout",
     "output_type": "stream",
     "text": [
      "1 1\n",
      "2 2\n",
      "3 4\n",
      "4 5\n",
      "5 7\n",
      "6 8\n"
     ]
    }
   ],
   "source": [
    "for ind, val in enumerate(lst):\n",
    "    if ind >0:\n",
    "        print(ind,val)"
   ]
  },
  {
   "cell_type": "code",
   "execution_count": 95,
   "id": "208a41aa",
   "metadata": {},
   "outputs": [
    {
     "name": "stdout",
     "output_type": "stream",
     "text": [
      "1\n",
      "2\n",
      "3\n"
     ]
    }
   ],
   "source": [
    "a=[1,2,3,4, 6]\n",
    "b= [4,5,6]\n",
    "for i,j in zip(a,b):\n",
    "    print(i)"
   ]
  },
  {
   "cell_type": "code",
   "execution_count": 96,
   "id": "b00829ec",
   "metadata": {},
   "outputs": [
    {
     "data": {
      "text/plain": [
       "str"
      ]
     },
     "execution_count": 96,
     "metadata": {},
     "output_type": "execute_result"
    }
   ],
   "source": [
    "hi = \"i love python\"\n",
    "type(hi)"
   ]
  },
  {
   "cell_type": "code",
   "execution_count": 102,
   "id": "edb5da43",
   "metadata": {},
   "outputs": [
    {
     "data": {
      "text/plain": [
       "'i   hate 6cpp'"
      ]
     },
     "execution_count": 102,
     "metadata": {},
     "output_type": "execute_result"
    }
   ],
   "source": [
    "\" \".join([hi[:2], \" hate\", str(6) + \"cpp\"])"
   ]
  },
  {
   "cell_type": "code",
   "execution_count": 107,
   "id": "42c16e1f",
   "metadata": {},
   "outputs": [
    {
     "data": {
      "text/plain": [
       "'the magic formatting 2 4 in python:'"
      ]
     },
     "execution_count": 107,
     "metadata": {},
     "output_type": "execute_result"
    }
   ],
   "source": [
    "\"the magic formatting {0} {1} in python:\".format(2, 4)"
   ]
  },
  {
   "cell_type": "code",
   "execution_count": 110,
   "id": "4852efea",
   "metadata": {},
   "outputs": [
    {
     "data": {
      "text/plain": [
       "' hello [1, 2, 3]'"
      ]
     },
     "execution_count": 110,
     "metadata": {},
     "output_type": "execute_result"
    }
   ],
   "source": [
    "hello = \"danny\"\n",
    "\" hello {}\".format([1,2,3])"
   ]
  },
  {
   "cell_type": "code",
   "execution_count": 118,
   "id": "7dcb5627",
   "metadata": {},
   "outputs": [
    {
     "data": {
      "text/plain": [
       "\"['joe', 'sean'] like to eat melon\""
      ]
     },
     "execution_count": 118,
     "metadata": {},
     "output_type": "execute_result"
    }
   ],
   "source": [
    "d = {\"name\":[\"joe\", \"sean\"], \"food\": \"melon\"}\n",
    "\"{name} like to eat {food}\".format(**d)"
   ]
  },
  {
   "cell_type": "code",
   "execution_count": 120,
   "id": "dfb0e2a0",
   "metadata": {},
   "outputs": [
    {
     "name": "stdout",
     "output_type": "stream",
     "text": [
      "c:\\networ\n"
     ]
    }
   ],
   "source": [
    "print(r\"c:\\networ\")"
   ]
  },
  {
   "cell_type": "code",
   "execution_count": 123,
   "id": "d69a5643",
   "metadata": {},
   "outputs": [
    {
     "data": {
      "text/plain": [
       "\"are you sctor in MONTY ['python'] cast\""
      ]
     },
     "execution_count": 123,
     "metadata": {},
     "output_type": "execute_result"
    }
   ],
   "source": [
    "first=\"monty\"\n",
    "second=\"python\"\n",
    "f\"are you sctor in {first.upper()} {second.split()} cast\""
   ]
  },
  {
   "cell_type": "code",
   "execution_count": 128,
   "id": "8dd0eb3a",
   "metadata": {},
   "outputs": [],
   "source": [
    "import math\n",
    "#from math import factorial"
   ]
  },
  {
   "cell_type": "code",
   "execution_count": 129,
   "id": "0954a98e",
   "metadata": {},
   "outputs": [
    {
     "data": {
      "text/plain": [
       "120"
      ]
     },
     "execution_count": 129,
     "metadata": {},
     "output_type": "execute_result"
    }
   ],
   "source": [
    "factorial(5)"
   ]
  },
  {
   "cell_type": "code",
   "execution_count": 131,
   "id": "f68c4d6d",
   "metadata": {},
   "outputs": [],
   "source": [
    "from pathlib import Path"
   ]
  },
  {
   "cell_type": "code",
   "execution_count": 132,
   "id": "f09b55ed",
   "metadata": {},
   "outputs": [
    {
     "data": {
      "text/plain": [
       "WindowsPath('C:/Users/lecture')"
      ]
     },
     "execution_count": 132,
     "metadata": {},
     "output_type": "execute_result"
    }
   ],
   "source": [
    "Path.cwd()"
   ]
  },
  {
   "cell_type": "code",
   "execution_count": 133,
   "id": "5b8a3b97",
   "metadata": {},
   "outputs": [
    {
     "data": {
      "text/plain": [
       "'C:\\\\Users\\\\lecture'"
      ]
     },
     "execution_count": 133,
     "metadata": {},
     "output_type": "execute_result"
    }
   ],
   "source": [
    "import os\n",
    "os.getcwd()"
   ]
  },
  {
   "cell_type": "code",
   "execution_count": 134,
   "id": "4b3b5c43",
   "metadata": {},
   "outputs": [
    {
     "data": {
      "text/plain": [
       "WindowsPath('C:/Users/lecture')"
      ]
     },
     "execution_count": 134,
     "metadata": {},
     "output_type": "execute_result"
    }
   ],
   "source": [
    "Path.home()"
   ]
  },
  {
   "cell_type": "code",
   "execution_count": 135,
   "id": "3cb0443e",
   "metadata": {},
   "outputs": [],
   "source": [
    "p=Path.home()"
   ]
  },
  {
   "cell_type": "code",
   "execution_count": null,
   "id": "4d06f18a",
   "metadata": {},
   "outputs": [],
   "source": [
    "os.chdir"
   ]
  },
  {
   "cell_type": "code",
   "execution_count": 136,
   "id": "cad6984c",
   "metadata": {},
   "outputs": [
    {
     "data": {
      "text/plain": [
       "WindowsPath('C:/Users/lecture/python_test/cateory/test.py')"
      ]
     },
     "execution_count": 136,
     "metadata": {},
     "output_type": "execute_result"
    }
   ],
   "source": [
    "p.joinpath(\"python_test\",\"cateory\", \"test.py\")"
   ]
  },
  {
   "cell_type": "code",
   "execution_count": 138,
   "id": "efb195e7",
   "metadata": {},
   "outputs": [
    {
     "data": {
      "text/plain": [
       "WindowsPath('C:/')"
      ]
     },
     "execution_count": 138,
     "metadata": {},
     "output_type": "execute_result"
    }
   ],
   "source": [
    "p.parent.parent"
   ]
  },
  {
   "cell_type": "code",
   "execution_count": 144,
   "id": "1df548c6",
   "metadata": {},
   "outputs": [
    {
     "data": {
      "text/plain": [
       "[]"
      ]
     },
     "execution_count": 144,
     "metadata": {},
     "output_type": "execute_result"
    }
   ],
   "source": [
    "list(p.glob(\"*.txt\"))"
   ]
  },
  {
   "cell_type": "code",
   "execution_count": 148,
   "id": "f253d1cc",
   "metadata": {},
   "outputs": [
    {
     "data": {
      "text/plain": [
       "WindowsPath('C:/Users/lecture/Downloads')"
      ]
     },
     "execution_count": 148,
     "metadata": {},
     "output_type": "execute_result"
    }
   ],
   "source": [
    "os.chdir(r\"C:\\Users\\lecture\\Downloads\")\n",
    "Path.cwd()"
   ]
  },
  {
   "cell_type": "code",
   "execution_count": 152,
   "id": "fbc0b28a",
   "metadata": {},
   "outputs": [
    {
     "data": {
      "text/plain": [
       "False"
      ]
     },
     "execution_count": 152,
     "metadata": {},
     "output_type": "execute_result"
    }
   ],
   "source": [
    " for i in list(Path.cwd().glob(\"*.html\")):\n",
    "        "
   ]
  },
  {
   "cell_type": "code",
   "execution_count": null,
   "id": "bff9dc61",
   "metadata": {},
   "outputs": [],
   "source": []
  },
  {
   "cell_type": "code",
   "execution_count": null,
   "id": "76280ed6",
   "metadata": {},
   "outputs": [],
   "source": []
  },
  {
   "cell_type": "code",
   "execution_count": null,
   "id": "76008a7a",
   "metadata": {},
   "outputs": [],
   "source": []
  }
 ],
 "metadata": {
  "kernelspec": {
   "display_name": "Python 3",
   "language": "python",
   "name": "python3"
  },
  "language_info": {
   "codemirror_mode": {
    "name": "ipython",
    "version": 3
   },
   "file_extension": ".py",
   "mimetype": "text/x-python",
   "name": "python",
   "nbconvert_exporter": "python",
   "pygments_lexer": "ipython3",
   "version": "3.8.8"
  }
 },
 "nbformat": 4,
 "nbformat_minor": 5
}
