{
 "cells": [
  {
   "cell_type": "code",
   "execution_count": 2,
   "metadata": {},
   "outputs": [],
   "source": [
    "import pandas as pd"
   ]
  },
  {
   "cell_type": "code",
   "execution_count": null,
   "metadata": {},
   "outputs": [],
   "source": [
    "# Dataframe is a 2-d array like a table which mean there is rows and columns and we need both to arrive to a valid data point unlike series\n",
    "# in other words df is basically a table that each columns is a series!"
   ]
  },
  {
   "cell_type": "markdown",
   "metadata": {},
   "source": [
    "# Creating a Data Frame"
   ]
  },
  {
   "cell_type": "code",
   "execution_count": 3,
   "metadata": {},
   "outputs": [
    {
     "data": {
      "text/html": [
       "<div>\n",
       "<style scoped>\n",
       "    .dataframe tbody tr th:only-of-type {\n",
       "        vertical-align: middle;\n",
       "    }\n",
       "\n",
       "    .dataframe tbody tr th {\n",
       "        vertical-align: top;\n",
       "    }\n",
       "\n",
       "    .dataframe thead th {\n",
       "        text-align: right;\n",
       "    }\n",
       "</style>\n",
       "<table border=\"1\" class=\"dataframe\">\n",
       "  <thead>\n",
       "    <tr style=\"text-align: right;\">\n",
       "      <th></th>\n",
       "      <th>Names</th>\n",
       "      <th>Age</th>\n",
       "    </tr>\n",
       "  </thead>\n",
       "  <tbody>\n",
       "    <tr>\n",
       "      <th>0</th>\n",
       "      <td>Isaac</td>\n",
       "      <td>22</td>\n",
       "    </tr>\n",
       "    <tr>\n",
       "      <th>1</th>\n",
       "      <td>John</td>\n",
       "      <td>32</td>\n",
       "    </tr>\n",
       "    <tr>\n",
       "      <th>2</th>\n",
       "      <td>Peter</td>\n",
       "      <td>45</td>\n",
       "    </tr>\n",
       "  </tbody>\n",
       "</table>\n",
       "</div>"
      ],
      "text/plain": [
       "   Names  Age\n",
       "0  Isaac   22\n",
       "1   John   32\n",
       "2  Peter   45"
      ]
     },
     "execution_count": 3,
     "metadata": {},
     "output_type": "execute_result"
    }
   ],
   "source": [
    "sample_dict = {\"Names\": [\"Isaac\", \"John\",\"Peter\"], \"Age\": [22,32,45]}\n",
    "# one way\n",
    "pd.DataFrame.from_dict(sample_dict)"
   ]
  },
  {
   "cell_type": "code",
   "execution_count": 5,
   "metadata": {},
   "outputs": [
    {
     "data": {
      "text/html": [
       "<div>\n",
       "<style scoped>\n",
       "    .dataframe tbody tr th:only-of-type {\n",
       "        vertical-align: middle;\n",
       "    }\n",
       "\n",
       "    .dataframe tbody tr th {\n",
       "        vertical-align: top;\n",
       "    }\n",
       "\n",
       "    .dataframe thead th {\n",
       "        text-align: right;\n",
       "    }\n",
       "</style>\n",
       "<table border=\"1\" class=\"dataframe\">\n",
       "  <thead>\n",
       "    <tr style=\"text-align: right;\">\n",
       "      <th></th>\n",
       "      <th>Name</th>\n",
       "      <th>Age</th>\n",
       "    </tr>\n",
       "  </thead>\n",
       "  <tbody>\n",
       "    <tr>\n",
       "      <th>0</th>\n",
       "      <td>Names</td>\n",
       "      <td>[Isaac, John, Peter]</td>\n",
       "    </tr>\n",
       "    <tr>\n",
       "      <th>1</th>\n",
       "      <td>Age</td>\n",
       "      <td>[22, 32, 45]</td>\n",
       "    </tr>\n",
       "  </tbody>\n",
       "</table>\n",
       "</div>"
      ],
      "text/plain": [
       "    Name                   Age\n",
       "0  Names  [Isaac, John, Peter]\n",
       "1    Age          [22, 32, 45]"
      ]
     },
     "execution_count": 5,
     "metadata": {},
     "output_type": "execute_result"
    }
   ],
   "source": [
    "sample_dict = {\"Names\": [\"Isaac\", \"John\",\"Peter\"], \"Age\": [22,32,45]}\n",
    "# one way\n",
    "pd.DataFrame.from_dict(sample_dict, orient=\"index\") # the \"orientation\" of the dataframe. if the keys should be rows, pass 'index' otherwise pass \"columns\"\n",
    "#when using orient = index you can specify columns manaually i.e\n",
    "pd.DataFrame.from_dict(sample_dict, orient=\"index\", columns=[\"name1\",\"name2\", \"name3\"])\n",
    "# second way\n",
    "pd.DataFrame(list(sample_dict.items()), columns=[\"Name\", \"Age\"]) # .items in python 3 its a view object hence the list"
   ]
  },
  {
   "cell_type": "code",
   "execution_count": 10,
   "metadata": {},
   "outputs": [
    {
     "data": {
      "text/html": [
       "<div>\n",
       "<style scoped>\n",
       "    .dataframe tbody tr th:only-of-type {\n",
       "        vertical-align: middle;\n",
       "    }\n",
       "\n",
       "    .dataframe tbody tr th {\n",
       "        vertical-align: top;\n",
       "    }\n",
       "\n",
       "    .dataframe thead th {\n",
       "        text-align: right;\n",
       "    }\n",
       "</style>\n",
       "<table border=\"1\" class=\"dataframe\">\n",
       "  <thead>\n",
       "    <tr style=\"text-align: right;\">\n",
       "      <th></th>\n",
       "      <th>0</th>\n",
       "      <th>1</th>\n",
       "      <th>2</th>\n",
       "    </tr>\n",
       "  </thead>\n",
       "  <tbody>\n",
       "    <tr>\n",
       "      <th>Names</th>\n",
       "      <td>Isaac</td>\n",
       "      <td>John</td>\n",
       "      <td>Peter</td>\n",
       "    </tr>\n",
       "    <tr>\n",
       "      <th>Age</th>\n",
       "      <td>22</td>\n",
       "      <td>32</td>\n",
       "      <td>45</td>\n",
       "    </tr>\n",
       "  </tbody>\n",
       "</table>\n",
       "</div>"
      ],
      "text/plain": [
       "           0     1      2\n",
       "Names  Isaac  John  Peter\n",
       "Age       22    32     45"
      ]
     },
     "execution_count": 10,
     "metadata": {},
     "output_type": "execute_result"
    }
   ],
   "source": [
    "sample_dict = {\"Names\": [\"Isaac\", \"John\",\"Peter\"], \"Age\": [22,32,45]}\n",
    "# one way\n",
    "pd.DataFrame.from_dict(sample_dict, orient=\"index\") # the \"orientation\" of the dataframe. if the keys should be rows, pass 'index' otherwise pass \"columns\"\n",
    "#when using orient = index you can specify columns manaually i.e\n",
    "#pd.DataFrame.from_dict(sample_dict, orient=\"index\", columns=[\"name1\",\"name2\", \"name3\"])\n",
    "# second way"
   ]
  },
  {
   "cell_type": "markdown",
   "metadata": {},
   "source": [
    "# Dataframe from a file"
   ]
  },
  {
   "cell_type": "code",
   "execution_count": 13,
   "metadata": {},
   "outputs": [
    {
     "data": {
      "text/html": [
       "<div>\n",
       "<style scoped>\n",
       "    .dataframe tbody tr th:only-of-type {\n",
       "        vertical-align: middle;\n",
       "    }\n",
       "\n",
       "    .dataframe tbody tr th {\n",
       "        vertical-align: top;\n",
       "    }\n",
       "\n",
       "    .dataframe thead th {\n",
       "        text-align: right;\n",
       "    }\n",
       "</style>\n",
       "<table border=\"1\" class=\"dataframe\">\n",
       "  <thead>\n",
       "    <tr style=\"text-align: right;\">\n",
       "      <th></th>\n",
       "      <th>Player</th>\n",
       "      <th>Pos</th>\n",
       "      <th>Age</th>\n",
       "      <th>TEAM</th>\n",
       "      <th>SALARY</th>\n",
       "    </tr>\n",
       "  </thead>\n",
       "  <tbody>\n",
       "    <tr>\n",
       "      <th>0</th>\n",
       "      <td>Stephen Curry</td>\n",
       "      <td>PG</td>\n",
       "      <td>27.0</td>\n",
       "      <td>Golden State Warriors</td>\n",
       "      <td>11,370,786</td>\n",
       "    </tr>\n",
       "    <tr>\n",
       "      <th>1</th>\n",
       "      <td>James Harden</td>\n",
       "      <td>SG</td>\n",
       "      <td>26.0</td>\n",
       "      <td>Houston Rockets</td>\n",
       "      <td>15,756,438</td>\n",
       "    </tr>\n",
       "    <tr>\n",
       "      <th>2</th>\n",
       "      <td>Kevin Durant</td>\n",
       "      <td>SF</td>\n",
       "      <td>27.0</td>\n",
       "      <td>Oklahoma City Thunder</td>\n",
       "      <td>20,158,622</td>\n",
       "    </tr>\n",
       "    <tr>\n",
       "      <th>3</th>\n",
       "      <td>DeMarcus Cousins</td>\n",
       "      <td>C</td>\n",
       "      <td>25.0</td>\n",
       "      <td>Sacramento Kings</td>\n",
       "      <td>15,851,950</td>\n",
       "    </tr>\n",
       "    <tr>\n",
       "      <th>4</th>\n",
       "      <td>LeBron James</td>\n",
       "      <td>SF</td>\n",
       "      <td>31.0</td>\n",
       "      <td>Cleveland Cavaliers</td>\n",
       "      <td>22,970,500</td>\n",
       "    </tr>\n",
       "  </tbody>\n",
       "</table>\n",
       "</div>"
      ],
      "text/plain": [
       "             Player Pos   Age                   TEAM      SALARY\n",
       "0     Stephen Curry  PG  27.0  Golden State Warriors  11,370,786\n",
       "1      James Harden  SG  26.0        Houston Rockets  15,756,438\n",
       "2      Kevin Durant  SF  27.0  Oklahoma City Thunder  20,158,622\n",
       "3  DeMarcus Cousins   C  25.0       Sacramento Kings  15,851,950\n",
       "4      LeBron James  SF  31.0    Cleveland Cavaliers  22,970,500"
      ]
     },
     "execution_count": 13,
     "metadata": {},
     "output_type": "execute_result"
    }
   ],
   "source": [
    "#nba = pd.read_csv(\"nbasalariespoints.csv\")\n",
    "nba = pd.read_csv(\"nbasalariespoints.csv\", usecols = [\"Player\", \"Pos\", \"Age\", \"TEAM\", \"SALARY\"])\n",
    "nba.head() # defaul is 5\n",
    "#nba.tail(0)"
   ]
  },
  {
   "cell_type": "code",
   "execution_count": 26,
   "metadata": {},
   "outputs": [
    {
     "name": "stdout",
     "output_type": "stream",
     "text": [
      "Player     object\n",
      "Pos        object\n",
      "Age       float64\n",
      "TEAM       object\n",
      "SALARY     object\n",
      "dtype: object\n"
     ]
    },
    {
     "data": {
      "text/plain": [
       "[RangeIndex(start=0, stop=517, step=1),\n",
       " Index(['Player', 'Pos', 'Age', 'TEAM', 'SALARY'], dtype='object')]"
      ]
     },
     "execution_count": 26,
     "metadata": {},
     "output_type": "execute_result"
    }
   ],
   "source": [
    "#as in Series:\n",
    "nba.head()\n",
    "nba.tail()\n",
    "nba.shape\n",
    "print(nba.dtypes)\n",
    "nba.index\n",
    "nba.columns\n",
    "nba.axes"
   ]
  },
  {
   "cell_type": "code",
   "execution_count": 27,
   "metadata": {},
   "outputs": [
    {
     "name": "stdout",
     "output_type": "stream",
     "text": [
      "<class 'pandas.core.frame.DataFrame'>\n",
      "RangeIndex: 517 entries, 0 to 516\n",
      "Data columns (total 5 columns):\n",
      " #   Column  Non-Null Count  Dtype  \n",
      "---  ------  --------------  -----  \n",
      " 0   Player  517 non-null    object \n",
      " 1   Pos     476 non-null    object \n",
      " 2   Age     476 non-null    float64\n",
      " 3   TEAM    420 non-null    object \n",
      " 4   SALARY  420 non-null    object \n",
      "dtypes: float64(1), object(4)\n",
      "memory usage: 20.3+ KB\n"
     ]
    }
   ],
   "source": [
    "# exclusive in dataframe\n",
    "nba.info() # pay attention to the different numbers and the types of each row"
   ]
  },
  {
   "cell_type": "code",
   "execution_count": 28,
   "metadata": {},
   "outputs": [
    {
     "data": {
      "text/plain": [
       "Player     object\n",
       "Pos        object\n",
       "Age       float64\n",
       "TEAM       object\n",
       "SALARY     object\n",
       "dtype: object"
      ]
     },
     "execution_count": 28,
     "metadata": {},
     "output_type": "execute_result"
    }
   ],
   "source": [
    "nba.dtypes"
   ]
  },
  {
   "cell_type": "code",
   "execution_count": 32,
   "metadata": {},
   "outputs": [
    {
     "data": {
      "text/plain": [
       "Index      128\n",
       "Player    4136\n",
       "Pos       4136\n",
       "Age       4136\n",
       "TEAM      4136\n",
       "SALARY    4136\n",
       "dtype: int64"
      ]
     },
     "execution_count": 32,
     "metadata": {},
     "output_type": "execute_result"
    }
   ],
   "source": [
    "#nba.get_dtype_counts()\n",
    "nba.memory_usage()"
   ]
  },
  {
   "cell_type": "code",
   "execution_count": 33,
   "metadata": {},
   "outputs": [
    {
     "data": {
      "text/html": [
       "<div>\n",
       "<style scoped>\n",
       "    .dataframe tbody tr th:only-of-type {\n",
       "        vertical-align: middle;\n",
       "    }\n",
       "\n",
       "    .dataframe tbody tr th {\n",
       "        vertical-align: top;\n",
       "    }\n",
       "\n",
       "    .dataframe thead th {\n",
       "        text-align: right;\n",
       "    }\n",
       "</style>\n",
       "<table border=\"1\" class=\"dataframe\">\n",
       "  <thead>\n",
       "    <tr style=\"text-align: right;\">\n",
       "      <th></th>\n",
       "      <th>Age</th>\n",
       "    </tr>\n",
       "  </thead>\n",
       "  <tbody>\n",
       "    <tr>\n",
       "      <th>count</th>\n",
       "      <td>476.000000</td>\n",
       "    </tr>\n",
       "    <tr>\n",
       "      <th>mean</th>\n",
       "      <td>26.594538</td>\n",
       "    </tr>\n",
       "    <tr>\n",
       "      <th>std</th>\n",
       "      <td>4.382440</td>\n",
       "    </tr>\n",
       "    <tr>\n",
       "      <th>min</th>\n",
       "      <td>19.000000</td>\n",
       "    </tr>\n",
       "    <tr>\n",
       "      <th>25%</th>\n",
       "      <td>23.000000</td>\n",
       "    </tr>\n",
       "    <tr>\n",
       "      <th>50%</th>\n",
       "      <td>26.000000</td>\n",
       "    </tr>\n",
       "    <tr>\n",
       "      <th>75%</th>\n",
       "      <td>29.000000</td>\n",
       "    </tr>\n",
       "    <tr>\n",
       "      <th>max</th>\n",
       "      <td>39.000000</td>\n",
       "    </tr>\n",
       "  </tbody>\n",
       "</table>\n",
       "</div>"
      ],
      "text/plain": [
       "              Age\n",
       "count  476.000000\n",
       "mean    26.594538\n",
       "std      4.382440\n",
       "min     19.000000\n",
       "25%     23.000000\n",
       "50%     26.000000\n",
       "75%     29.000000\n",
       "max     39.000000"
      ]
     },
     "execution_count": 33,
     "metadata": {},
     "output_type": "execute_result"
    }
   ],
   "source": [
    "nba.describe()"
   ]
  },
  {
   "cell_type": "markdown",
   "metadata": {},
   "source": [
    "## quick summary "
   ]
  },
  {
   "cell_type": "code",
   "execution_count": 16,
   "metadata": {},
   "outputs": [
    {
     "data": {
      "text/html": [
       "<div>\n",
       "<style scoped>\n",
       "    .dataframe tbody tr th:only-of-type {\n",
       "        vertical-align: middle;\n",
       "    }\n",
       "\n",
       "    .dataframe tbody tr th {\n",
       "        vertical-align: top;\n",
       "    }\n",
       "\n",
       "    .dataframe thead th {\n",
       "        text-align: right;\n",
       "    }\n",
       "</style>\n",
       "<table border=\"1\" class=\"dataframe\">\n",
       "  <thead>\n",
       "    <tr style=\"text-align: right;\">\n",
       "      <th></th>\n",
       "      <th>Age</th>\n",
       "    </tr>\n",
       "  </thead>\n",
       "  <tbody>\n",
       "    <tr>\n",
       "      <th>count</th>\n",
       "      <td>476.000000</td>\n",
       "    </tr>\n",
       "    <tr>\n",
       "      <th>mean</th>\n",
       "      <td>26.594538</td>\n",
       "    </tr>\n",
       "    <tr>\n",
       "      <th>std</th>\n",
       "      <td>4.382440</td>\n",
       "    </tr>\n",
       "    <tr>\n",
       "      <th>min</th>\n",
       "      <td>19.000000</td>\n",
       "    </tr>\n",
       "    <tr>\n",
       "      <th>25%</th>\n",
       "      <td>23.000000</td>\n",
       "    </tr>\n",
       "    <tr>\n",
       "      <th>50%</th>\n",
       "      <td>26.000000</td>\n",
       "    </tr>\n",
       "    <tr>\n",
       "      <th>75%</th>\n",
       "      <td>29.000000</td>\n",
       "    </tr>\n",
       "    <tr>\n",
       "      <th>max</th>\n",
       "      <td>39.000000</td>\n",
       "    </tr>\n",
       "  </tbody>\n",
       "</table>\n",
       "</div>"
      ],
      "text/plain": [
       "              Age\n",
       "count  476.000000\n",
       "mean    26.594538\n",
       "std      4.382440\n",
       "min     19.000000\n",
       "25%     23.000000\n",
       "50%     26.000000\n",
       "75%     29.000000\n",
       "max     39.000000"
      ]
     },
     "execution_count": 16,
     "metadata": {},
     "output_type": "execute_result"
    }
   ],
   "source": [
    "nba.describe()"
   ]
  },
  {
   "cell_type": "markdown",
   "metadata": {},
   "source": [
    "But: although Series and Dataframes share a lot they sometimes operate in a different way so lets see 1 example:"
   ]
  },
  {
   "cell_type": "code",
   "execution_count": 38,
   "metadata": {},
   "outputs": [
    {
     "name": "stdout",
     "output_type": "stream",
     "text": [
      "Series sum is sum of all numbers: 10\n",
      "10\n"
     ]
    }
   ],
   "source": [
    "ser = pd.Series([1,2,3,4])\n",
    "print(\"Series sum is sum of all numbers:\", ser.sum())\n",
    "ser\n",
    "print (ser.sum(axis = \"columns\")) # its not exist "
   ]
  },
  {
   "cell_type": "code",
   "execution_count": 40,
   "metadata": {},
   "outputs": [
    {
     "name": "stdout",
     "output_type": "stream",
     "text": [
      "City                      NYLABos\n",
      "Date     1/1/20001/2/20001/3/2000\n",
      "Value                         600\n",
      "dtype: object\n",
      "0    100\n",
      "1    200\n",
      "2    300\n",
      "dtype: int64\n"
     ]
    },
    {
     "name": "stderr",
     "output_type": "stream",
     "text": [
      "C:\\Users\\Gidi\\AppData\\Local\\Temp/ipykernel_10844/932388249.py:5: FutureWarning: Dropping of nuisance columns in DataFrame reductions (with 'numeric_only=None') is deprecated; in a future version this will raise TypeError.  Select only valid columns before calling the reduction.\n",
      "  print(df.sum(axis = \"columns\"))\n"
     ]
    }
   ],
   "source": [
    "# lets create a dataframe to see the different\n",
    "dict1 = {\"City\": [\"NY\", \"LA\", \"Bos\"], \"Date\":[\"1/1/2000\", \"1/2/2000\", \"1/3/2000\"], \"Value\": [100,200,300]}\n",
    "df = pd.DataFrame(data = dict1)\n",
    "print (df.sum(axis = \"index\")) # equivilant to axis = 0\n",
    "print(df.sum(axis = \"columns\"))"
   ]
  },
  {
   "cell_type": "markdown",
   "metadata": {},
   "source": [
    "## selecting one column"
   ]
  },
  {
   "cell_type": "markdown",
   "metadata": {},
   "source": [
    "first way:"
   ]
  },
  {
   "cell_type": "code",
   "execution_count": 46,
   "metadata": {
    "scrolled": true
   },
   "outputs": [
    {
     "data": {
      "text/plain": [
       "0       Stephen Curry\n",
       "1        James Harden\n",
       "2        Kevin Durant\n",
       "3    DeMarcus Cousins\n",
       "4        LeBron James\n",
       "Name: Player, dtype: object"
      ]
     },
     "execution_count": 46,
     "metadata": {},
     "output_type": "execute_result"
    }
   ],
   "source": [
    "nba.Player.head()# ; return a series\n",
    "# if you want to hide the output there is 3 option \n",
    "# add semicolon \n",
    "#Output=None\n",
    "#double click to colapse the output"
   ]
  },
  {
   "cell_type": "code",
   "execution_count": null,
   "metadata": {},
   "outputs": [],
   "source": [
    "# I dont like this way so much because its NOT working when you have a column name with spaces i.e a column: Player Name\n",
    "#we will see an example later"
   ]
  },
  {
   "cell_type": "markdown",
   "metadata": {},
   "source": [
    "Second way:"
   ]
  },
  {
   "cell_type": "code",
   "execution_count": 47,
   "metadata": {},
   "outputs": [
    {
     "data": {
      "text/plain": [
       "0    Golden State Warriors\n",
       "1          Houston Rockets\n",
       "2    Oklahoma City Thunder\n",
       "3         Sacramento Kings\n",
       "4      Cleveland Cavaliers\n",
       "Name: TEAM, dtype: object"
      ]
     },
     "execution_count": 47,
     "metadata": {},
     "output_type": "execute_result"
    }
   ],
   "source": [
    "nba[\"TEAM\"].head() # always work"
   ]
  },
  {
   "cell_type": "code",
   "execution_count": 24,
   "metadata": {},
   "outputs": [
    {
     "data": {
      "text/plain": [
       "pandas.core.series.Series"
      ]
     },
     "execution_count": 24,
     "metadata": {},
     "output_type": "execute_result"
    }
   ],
   "source": [
    "type(nba[\"Player\"]) # return Series so we can cahin methods and all attr. worked on Series you can assign   "
   ]
  },
  {
   "cell_type": "markdown",
   "metadata": {},
   "source": [
    "## Selecting multiple columns"
   ]
  },
  {
   "cell_type": "code",
   "execution_count": 50,
   "metadata": {},
   "outputs": [
    {
     "data": {
      "text/html": [
       "<div>\n",
       "<style scoped>\n",
       "    .dataframe tbody tr th:only-of-type {\n",
       "        vertical-align: middle;\n",
       "    }\n",
       "\n",
       "    .dataframe tbody tr th {\n",
       "        vertical-align: top;\n",
       "    }\n",
       "\n",
       "    .dataframe thead th {\n",
       "        text-align: right;\n",
       "    }\n",
       "</style>\n",
       "<table border=\"1\" class=\"dataframe\">\n",
       "  <thead>\n",
       "    <tr style=\"text-align: right;\">\n",
       "      <th></th>\n",
       "      <th>Player</th>\n",
       "      <th>TEAM</th>\n",
       "      <th>SALARY</th>\n",
       "    </tr>\n",
       "  </thead>\n",
       "  <tbody>\n",
       "    <tr>\n",
       "      <th>0</th>\n",
       "      <td>Stephen Curry</td>\n",
       "      <td>Golden State Warriors</td>\n",
       "      <td>11,370,786</td>\n",
       "    </tr>\n",
       "    <tr>\n",
       "      <th>1</th>\n",
       "      <td>James Harden</td>\n",
       "      <td>Houston Rockets</td>\n",
       "      <td>15,756,438</td>\n",
       "    </tr>\n",
       "    <tr>\n",
       "      <th>2</th>\n",
       "      <td>Kevin Durant</td>\n",
       "      <td>Oklahoma City Thunder</td>\n",
       "      <td>20,158,622</td>\n",
       "    </tr>\n",
       "    <tr>\n",
       "      <th>3</th>\n",
       "      <td>DeMarcus Cousins</td>\n",
       "      <td>Sacramento Kings</td>\n",
       "      <td>15,851,950</td>\n",
       "    </tr>\n",
       "    <tr>\n",
       "      <th>4</th>\n",
       "      <td>LeBron James</td>\n",
       "      <td>Cleveland Cavaliers</td>\n",
       "      <td>22,970,500</td>\n",
       "    </tr>\n",
       "    <tr>\n",
       "      <th>5</th>\n",
       "      <td>Damian Lillard</td>\n",
       "      <td>Portland Trail Blazers</td>\n",
       "      <td>4,236,287</td>\n",
       "    </tr>\n",
       "    <tr>\n",
       "      <th>6</th>\n",
       "      <td>Anthony Davis</td>\n",
       "      <td>New Orleans Pelicans</td>\n",
       "      <td>7,070,730</td>\n",
       "    </tr>\n",
       "    <tr>\n",
       "      <th>7</th>\n",
       "      <td>DeMar DeRozan</td>\n",
       "      <td>Toronto Raptors</td>\n",
       "      <td>10,050,000</td>\n",
       "    </tr>\n",
       "    <tr>\n",
       "      <th>8</th>\n",
       "      <td>Russell Westbrook</td>\n",
       "      <td>Oklahoma City Thunder</td>\n",
       "      <td>16,744,218</td>\n",
       "    </tr>\n",
       "    <tr>\n",
       "      <th>9</th>\n",
       "      <td>Paul George</td>\n",
       "      <td>Indiana Pacers</td>\n",
       "      <td>17,120,106</td>\n",
       "    </tr>\n",
       "  </tbody>\n",
       "</table>\n",
       "</div>"
      ],
      "text/plain": [
       "              Player                    TEAM      SALARY\n",
       "0      Stephen Curry   Golden State Warriors  11,370,786\n",
       "1       James Harden         Houston Rockets  15,756,438\n",
       "2       Kevin Durant   Oklahoma City Thunder  20,158,622\n",
       "3   DeMarcus Cousins        Sacramento Kings  15,851,950\n",
       "4       LeBron James     Cleveland Cavaliers  22,970,500\n",
       "5     Damian Lillard  Portland Trail Blazers   4,236,287\n",
       "6      Anthony Davis    New Orleans Pelicans   7,070,730\n",
       "7      DeMar DeRozan         Toronto Raptors  10,050,000\n",
       "8  Russell Westbrook   Oklahoma City Thunder  16,744,218\n",
       "9        Paul George          Indiana Pacers  17,120,106"
      ]
     },
     "execution_count": 50,
     "metadata": {},
     "output_type": "execute_result"
    }
   ],
   "source": [
    "nba[[\"Player\", \"TEAM\", \"SALARY\"]].head(10) # you can reverse the oreder if you want the team will appear first\n",
    "#return dataframe\n",
    "# you can add as much column as you want"
   ]
  },
  {
   "cell_type": "markdown",
   "metadata": {},
   "source": [
    "## add new column to an existing dataframe"
   ]
  },
  {
   "cell_type": "code",
   "execution_count": 55,
   "metadata": {},
   "outputs": [
    {
     "data": {
      "text/html": [
       "<div>\n",
       "<style scoped>\n",
       "    .dataframe tbody tr th:only-of-type {\n",
       "        vertical-align: middle;\n",
       "    }\n",
       "\n",
       "    .dataframe tbody tr th {\n",
       "        vertical-align: top;\n",
       "    }\n",
       "\n",
       "    .dataframe thead th {\n",
       "        text-align: right;\n",
       "    }\n",
       "</style>\n",
       "<table border=\"1\" class=\"dataframe\">\n",
       "  <thead>\n",
       "    <tr style=\"text-align: right;\">\n",
       "      <th></th>\n",
       "      <th>Player</th>\n",
       "      <th>Pos</th>\n",
       "      <th>Age</th>\n",
       "      <th>Sport</th>\n",
       "      <th>Sport</th>\n",
       "      <th>Country</th>\n",
       "      <th>TEAM</th>\n",
       "      <th>SALARY</th>\n",
       "      <th>Type of Sport</th>\n",
       "    </tr>\n",
       "  </thead>\n",
       "  <tbody>\n",
       "    <tr>\n",
       "      <th>0</th>\n",
       "      <td>Stephen Curry</td>\n",
       "      <td>PG</td>\n",
       "      <td>27.0</td>\n",
       "      <td>Basketball</td>\n",
       "      <td>Basketball</td>\n",
       "      <td>U.S</td>\n",
       "      <td>Golden State Warriors</td>\n",
       "      <td>11,370,786</td>\n",
       "      <td>Basketball</td>\n",
       "    </tr>\n",
       "    <tr>\n",
       "      <th>1</th>\n",
       "      <td>James Harden</td>\n",
       "      <td>SG</td>\n",
       "      <td>26.0</td>\n",
       "      <td>Basketball</td>\n",
       "      <td>Basketball</td>\n",
       "      <td>U.S</td>\n",
       "      <td>Houston Rockets</td>\n",
       "      <td>15,756,438</td>\n",
       "      <td>Basketball</td>\n",
       "    </tr>\n",
       "  </tbody>\n",
       "</table>\n",
       "</div>"
      ],
      "text/plain": [
       "          Player Pos   Age       Sport       Sport Country  \\\n",
       "0  Stephen Curry  PG  27.0  Basketball  Basketball     U.S   \n",
       "1   James Harden  SG  26.0  Basketball  Basketball     U.S   \n",
       "\n",
       "                    TEAM      SALARY Type of Sport  \n",
       "0  Golden State Warriors  11,370,786    Basketball  \n",
       "1        Houston Rockets  15,756,438    Basketball  "
      ]
     },
     "execution_count": 55,
     "metadata": {},
     "output_type": "execute_result"
    }
   ],
   "source": [
    "nba[\"Type of Sport\"] = \"Basketball\"\n",
    "nba.head(2) "
   ]
  },
  {
   "cell_type": "code",
   "execution_count": 58,
   "metadata": {},
   "outputs": [
    {
     "data": {
      "text/html": [
       "<div>\n",
       "<style scoped>\n",
       "    .dataframe tbody tr th:only-of-type {\n",
       "        vertical-align: middle;\n",
       "    }\n",
       "\n",
       "    .dataframe tbody tr th {\n",
       "        vertical-align: top;\n",
       "    }\n",
       "\n",
       "    .dataframe thead th {\n",
       "        text-align: right;\n",
       "    }\n",
       "</style>\n",
       "<table border=\"1\" class=\"dataframe\">\n",
       "  <thead>\n",
       "    <tr style=\"text-align: right;\">\n",
       "      <th></th>\n",
       "      <th>Player</th>\n",
       "      <th>Pos</th>\n",
       "      <th>Age</th>\n",
       "      <th>Sport</th>\n",
       "      <th>ORGAN</th>\n",
       "      <th>Sport</th>\n",
       "      <th>Country</th>\n",
       "      <th>TEAM</th>\n",
       "      <th>SALARY</th>\n",
       "      <th>Type of Sport</th>\n",
       "    </tr>\n",
       "  </thead>\n",
       "  <tbody>\n",
       "    <tr>\n",
       "      <th>0</th>\n",
       "      <td>Stephen Curry</td>\n",
       "      <td>PG</td>\n",
       "      <td>27.0</td>\n",
       "      <td>Basketball</td>\n",
       "      <td>U.N</td>\n",
       "      <td>Basketball</td>\n",
       "      <td>U.S</td>\n",
       "      <td>Golden State Warriors</td>\n",
       "      <td>11,370,786</td>\n",
       "      <td>Basketball</td>\n",
       "    </tr>\n",
       "    <tr>\n",
       "      <th>1</th>\n",
       "      <td>James Harden</td>\n",
       "      <td>SG</td>\n",
       "      <td>26.0</td>\n",
       "      <td>Basketball</td>\n",
       "      <td>U.N</td>\n",
       "      <td>Basketball</td>\n",
       "      <td>U.S</td>\n",
       "      <td>Houston Rockets</td>\n",
       "      <td>15,756,438</td>\n",
       "      <td>Basketball</td>\n",
       "    </tr>\n",
       "    <tr>\n",
       "      <th>2</th>\n",
       "      <td>Kevin Durant</td>\n",
       "      <td>SF</td>\n",
       "      <td>27.0</td>\n",
       "      <td>Basketball</td>\n",
       "      <td>U.N</td>\n",
       "      <td>Basketball</td>\n",
       "      <td>U.S</td>\n",
       "      <td>Oklahoma City Thunder</td>\n",
       "      <td>20,158,622</td>\n",
       "      <td>Basketball</td>\n",
       "    </tr>\n",
       "    <tr>\n",
       "      <th>3</th>\n",
       "      <td>DeMarcus Cousins</td>\n",
       "      <td>C</td>\n",
       "      <td>25.0</td>\n",
       "      <td>Basketball</td>\n",
       "      <td>U.N</td>\n",
       "      <td>Basketball</td>\n",
       "      <td>U.S</td>\n",
       "      <td>Sacramento Kings</td>\n",
       "      <td>15,851,950</td>\n",
       "      <td>Basketball</td>\n",
       "    </tr>\n",
       "    <tr>\n",
       "      <th>4</th>\n",
       "      <td>LeBron James</td>\n",
       "      <td>SF</td>\n",
       "      <td>31.0</td>\n",
       "      <td>Basketball</td>\n",
       "      <td>U.N</td>\n",
       "      <td>Basketball</td>\n",
       "      <td>U.S</td>\n",
       "      <td>Cleveland Cavaliers</td>\n",
       "      <td>22,970,500</td>\n",
       "      <td>Basketball</td>\n",
       "    </tr>\n",
       "  </tbody>\n",
       "</table>\n",
       "</div>"
      ],
      "text/plain": [
       "             Player Pos   Age       Sport ORGAN       Sport Country  \\\n",
       "0     Stephen Curry  PG  27.0  Basketball   U.N  Basketball     U.S   \n",
       "1      James Harden  SG  26.0  Basketball   U.N  Basketball     U.S   \n",
       "2      Kevin Durant  SF  27.0  Basketball   U.N  Basketball     U.S   \n",
       "3  DeMarcus Cousins   C  25.0  Basketball   U.N  Basketball     U.S   \n",
       "4      LeBron James  SF  31.0  Basketball   U.N  Basketball     U.S   \n",
       "\n",
       "                    TEAM      SALARY Type of Sport  \n",
       "0  Golden State Warriors  11,370,786    Basketball  \n",
       "1        Houston Rockets  15,756,438    Basketball  \n",
       "2  Oklahoma City Thunder  20,158,622    Basketball  \n",
       "3       Sacramento Kings  15,851,950    Basketball  \n",
       "4    Cleveland Cavaliers  22,970,500    Basketball  "
      ]
     },
     "execution_count": 58,
     "metadata": {},
     "output_type": "execute_result"
    }
   ],
   "source": [
    "#insert column in a specific place:\n",
    "#nba.insert(loc=3, column=\"Sport\", value=\"Basketball\", allow_duplicates=False) # the column added permenantly so we dont need the inplace = True\n",
    "# loc represent the index position of the columns so Players is at position 0 etc..\n",
    "# pay attention there is a parameter allow_duplicate that assign to False. if for any reason you want to rewrite the exixting columne turn it to True\n",
    "nba.insert(loc=4, column=\"ORGAN\", value=\"U.N\")\n",
    "nba.head()"
   ]
  },
  {
   "cell_type": "markdown",
   "metadata": {},
   "source": [
    "# Broadcasting"
   ]
  },
  {
   "cell_type": "code",
   "execution_count": 29,
   "metadata": {},
   "outputs": [
    {
     "data": {
      "text/plain": [
       "0    27.0\n",
       "1    26.0\n",
       "Name: Age, dtype: float64"
      ]
     },
     "execution_count": 29,
     "metadata": {},
     "output_type": "execute_result"
    }
   ],
   "source": [
    "nba[\"Age\"].head(2) "
   ]
  },
  {
   "cell_type": "code",
   "execution_count": 31,
   "metadata": {},
   "outputs": [
    {
     "data": {
      "text/plain": [
       "0      32.000000\n",
       "1      31.000000\n",
       "2      32.000000\n",
       "3      30.000000\n",
       "4      36.000000\n",
       "5      30.000000\n",
       "6      27.000000\n",
       "7      31.000000\n",
       "8      32.000000\n",
       "9      30.000000\n",
       "10     31.000000\n",
       "11     30.000000\n",
       "12     36.000000\n",
       "13     31.000000\n",
       "14     29.000000\n",
       "15     34.000000\n",
       "16     31.000000\n",
       "17     30.000000\n",
       "18     29.000000\n",
       "19     25.000000\n",
       "20     32.000000\n",
       "21     31.000000\n",
       "22     30.000000\n",
       "23     30.000000\n",
       "24     28.000000\n",
       "25     29.000000\n",
       "26     32.000000\n",
       "27     35.000000\n",
       "28     36.000000\n",
       "29     39.000000\n",
       "         ...    \n",
       "487    31.594538\n",
       "488    31.594538\n",
       "489    31.594538\n",
       "490    31.594538\n",
       "491    31.594538\n",
       "492    31.594538\n",
       "493    31.594538\n",
       "494    31.594538\n",
       "495    31.594538\n",
       "496    31.594538\n",
       "497    31.594538\n",
       "498    31.594538\n",
       "499    31.594538\n",
       "500    31.594538\n",
       "501    31.594538\n",
       "502    31.594538\n",
       "503    31.594538\n",
       "504    31.594538\n",
       "505    31.594538\n",
       "506    31.594538\n",
       "507    31.594538\n",
       "508    31.594538\n",
       "509    31.594538\n",
       "510    31.594538\n",
       "511    31.594538\n",
       "512    31.594538\n",
       "513    31.594538\n",
       "514    31.594538\n",
       "515    31.594538\n",
       "516    31.594538\n",
       "Name: Age, Length: 517, dtype: float64"
      ]
     },
     "execution_count": 31,
     "metadata": {},
     "output_type": "execute_result"
    }
   ],
   "source": [
    "nba[\"Age\"]+5 \n",
    "nba[\"Age\"].add(5,fill_value=nba[\"Age\"].mean())"
   ]
  },
  {
   "cell_type": "code",
   "execution_count": 63,
   "metadata": {},
   "outputs": [
    {
     "name": "stdout",
     "output_type": "stream",
     "text": [
      "<class 'pandas.core.frame.DataFrame'>\n",
      "RangeIndex: 517 entries, 0 to 516\n",
      "Data columns (total 12 columns):\n",
      " #   Column             Non-Null Count  Dtype  \n",
      "---  ------             --------------  -----  \n",
      " 0   Player             517 non-null    object \n",
      " 1   Pos                476 non-null    object \n",
      " 2   Age                476 non-null    float64\n",
      " 3   Sport              517 non-null    object \n",
      " 4   ORGAN              517 non-null    object \n",
      " 5   Sport              517 non-null    object \n",
      " 6   Country            517 non-null    object \n",
      " 7   TEAM               420 non-null    object \n",
      " 8   SALARY             420 non-null    object \n",
      " 9   Type of Sport      517 non-null    object \n",
      " 10  sub_age            476 non-null    float64\n",
      " 11  Age divided by 10  476 non-null    float64\n",
      "dtypes: float64(3), object(9)\n",
      "memory usage: 48.6+ KB\n"
     ]
    }
   ],
   "source": [
    "nba.info()"
   ]
  },
  {
   "cell_type": "code",
   "execution_count": 62,
   "metadata": {},
   "outputs": [
    {
     "data": {
      "text/html": [
       "<div>\n",
       "<style scoped>\n",
       "    .dataframe tbody tr th:only-of-type {\n",
       "        vertical-align: middle;\n",
       "    }\n",
       "\n",
       "    .dataframe tbody tr th {\n",
       "        vertical-align: top;\n",
       "    }\n",
       "\n",
       "    .dataframe thead th {\n",
       "        text-align: right;\n",
       "    }\n",
       "</style>\n",
       "<table border=\"1\" class=\"dataframe\">\n",
       "  <thead>\n",
       "    <tr style=\"text-align: right;\">\n",
       "      <th></th>\n",
       "      <th>Player</th>\n",
       "      <th>Pos</th>\n",
       "      <th>Age</th>\n",
       "      <th>Sport</th>\n",
       "      <th>ORGAN</th>\n",
       "      <th>Sport</th>\n",
       "      <th>Country</th>\n",
       "      <th>TEAM</th>\n",
       "      <th>SALARY</th>\n",
       "      <th>Type of Sport</th>\n",
       "      <th>sub_age</th>\n",
       "      <th>Age divided by 10</th>\n",
       "    </tr>\n",
       "  </thead>\n",
       "  <tbody>\n",
       "    <tr>\n",
       "      <th>0</th>\n",
       "      <td>Stephen Curry</td>\n",
       "      <td>PG</td>\n",
       "      <td>27.0</td>\n",
       "      <td>Basketball</td>\n",
       "      <td>U.N</td>\n",
       "      <td>Basketball</td>\n",
       "      <td>U.S</td>\n",
       "      <td>Golden State Warriors</td>\n",
       "      <td>11,370,786</td>\n",
       "      <td>Basketball</td>\n",
       "      <td>17.0</td>\n",
       "      <td>2.7</td>\n",
       "    </tr>\n",
       "    <tr>\n",
       "      <th>1</th>\n",
       "      <td>James Harden</td>\n",
       "      <td>SG</td>\n",
       "      <td>26.0</td>\n",
       "      <td>Basketball</td>\n",
       "      <td>U.N</td>\n",
       "      <td>Basketball</td>\n",
       "      <td>U.S</td>\n",
       "      <td>Houston Rockets</td>\n",
       "      <td>15,756,438</td>\n",
       "      <td>Basketball</td>\n",
       "      <td>16.0</td>\n",
       "      <td>2.6</td>\n",
       "    </tr>\n",
       "    <tr>\n",
       "      <th>2</th>\n",
       "      <td>Kevin Durant</td>\n",
       "      <td>SF</td>\n",
       "      <td>27.0</td>\n",
       "      <td>Basketball</td>\n",
       "      <td>U.N</td>\n",
       "      <td>Basketball</td>\n",
       "      <td>U.S</td>\n",
       "      <td>Oklahoma City Thunder</td>\n",
       "      <td>20,158,622</td>\n",
       "      <td>Basketball</td>\n",
       "      <td>17.0</td>\n",
       "      <td>2.7</td>\n",
       "    </tr>\n",
       "    <tr>\n",
       "      <th>3</th>\n",
       "      <td>DeMarcus Cousins</td>\n",
       "      <td>C</td>\n",
       "      <td>25.0</td>\n",
       "      <td>Basketball</td>\n",
       "      <td>U.N</td>\n",
       "      <td>Basketball</td>\n",
       "      <td>U.S</td>\n",
       "      <td>Sacramento Kings</td>\n",
       "      <td>15,851,950</td>\n",
       "      <td>Basketball</td>\n",
       "      <td>15.0</td>\n",
       "      <td>2.5</td>\n",
       "    </tr>\n",
       "    <tr>\n",
       "      <th>4</th>\n",
       "      <td>LeBron James</td>\n",
       "      <td>SF</td>\n",
       "      <td>31.0</td>\n",
       "      <td>Basketball</td>\n",
       "      <td>U.N</td>\n",
       "      <td>Basketball</td>\n",
       "      <td>U.S</td>\n",
       "      <td>Cleveland Cavaliers</td>\n",
       "      <td>22,970,500</td>\n",
       "      <td>Basketball</td>\n",
       "      <td>21.0</td>\n",
       "      <td>3.1</td>\n",
       "    </tr>\n",
       "  </tbody>\n",
       "</table>\n",
       "</div>"
      ],
      "text/plain": [
       "             Player Pos   Age       Sport ORGAN       Sport Country  \\\n",
       "0     Stephen Curry  PG  27.0  Basketball   U.N  Basketball     U.S   \n",
       "1      James Harden  SG  26.0  Basketball   U.N  Basketball     U.S   \n",
       "2      Kevin Durant  SF  27.0  Basketball   U.N  Basketball     U.S   \n",
       "3  DeMarcus Cousins   C  25.0  Basketball   U.N  Basketball     U.S   \n",
       "4      LeBron James  SF  31.0  Basketball   U.N  Basketball     U.S   \n",
       "\n",
       "                    TEAM      SALARY Type of Sport  sub_age  Age divided by 10  \n",
       "0  Golden State Warriors  11,370,786    Basketball     17.0                2.7  \n",
       "1        Houston Rockets  15,756,438    Basketball     16.0                2.6  \n",
       "2  Oklahoma City Thunder  20,158,622    Basketball     17.0                2.7  \n",
       "3       Sacramento Kings  15,851,950    Basketball     15.0                2.5  \n",
       "4    Cleveland Cavaliers  22,970,500    Basketball     21.0                3.1  "
      ]
     },
     "execution_count": 62,
     "metadata": {},
     "output_type": "execute_result"
    }
   ],
   "source": [
    "nba[\"Age\"]-10\n",
    "nba[\"Age\"].sub(10)\n",
    "nba[\"sub_age\"] = nba[\"Age\"].sub(10)\n",
    "\n",
    "nba[\"Age\"].div(10)\n",
    "nba[\"Age divided by 10\"] = nba[\"Age\"] / 10\n",
    "\n",
    "nba.head()"
   ]
  },
  {
   "cell_type": "markdown",
   "metadata": {},
   "source": [
    "# dealin with NULL values"
   ]
  },
  {
   "cell_type": "markdown",
   "metadata": {},
   "source": [
    "## dropna method"
   ]
  },
  {
   "cell_type": "code",
   "execution_count": 36,
   "metadata": {},
   "outputs": [
    {
     "data": {
      "text/plain": [
       "(517, 7)"
      ]
     },
     "execution_count": 36,
     "metadata": {},
     "output_type": "execute_result"
    }
   ],
   "source": [
    "nba = pd.read_csv(\"nbasalariespoints.csv\", usecols = [\"Player\", \"Pos\", \"Age\", \"TEAM\", \"SALARY\", \"TOV\",\"PF\"])\n",
    "nba.shape"
   ]
  },
  {
   "cell_type": "code",
   "execution_count": 67,
   "metadata": {},
   "outputs": [
    {
     "data": {
      "text/html": [
       "<div>\n",
       "<style scoped>\n",
       "    .dataframe tbody tr th:only-of-type {\n",
       "        vertical-align: middle;\n",
       "    }\n",
       "\n",
       "    .dataframe tbody tr th {\n",
       "        vertical-align: top;\n",
       "    }\n",
       "\n",
       "    .dataframe thead th {\n",
       "        text-align: right;\n",
       "    }\n",
       "</style>\n",
       "<table border=\"1\" class=\"dataframe\">\n",
       "  <thead>\n",
       "    <tr style=\"text-align: right;\">\n",
       "      <th></th>\n",
       "      <th>Player</th>\n",
       "      <th>Pos</th>\n",
       "      <th>Age</th>\n",
       "      <th>Sport</th>\n",
       "      <th>ORGAN</th>\n",
       "      <th>Sport</th>\n",
       "      <th>Country</th>\n",
       "      <th>TEAM</th>\n",
       "      <th>SALARY</th>\n",
       "      <th>Type of Sport</th>\n",
       "      <th>sub_age</th>\n",
       "      <th>Age divided by 10</th>\n",
       "    </tr>\n",
       "  </thead>\n",
       "  <tbody>\n",
       "    <tr>\n",
       "      <th>0</th>\n",
       "      <td>Stephen Curry</td>\n",
       "      <td>PG</td>\n",
       "      <td>27.0</td>\n",
       "      <td>Basketball</td>\n",
       "      <td>U.N</td>\n",
       "      <td>Basketball</td>\n",
       "      <td>U.S</td>\n",
       "      <td>Golden State Warriors</td>\n",
       "      <td>11,370,786</td>\n",
       "      <td>Basketball</td>\n",
       "      <td>17.0</td>\n",
       "      <td>2.7</td>\n",
       "    </tr>\n",
       "    <tr>\n",
       "      <th>1</th>\n",
       "      <td>James Harden</td>\n",
       "      <td>SG</td>\n",
       "      <td>26.0</td>\n",
       "      <td>Basketball</td>\n",
       "      <td>U.N</td>\n",
       "      <td>Basketball</td>\n",
       "      <td>U.S</td>\n",
       "      <td>Houston Rockets</td>\n",
       "      <td>15,756,438</td>\n",
       "      <td>Basketball</td>\n",
       "      <td>16.0</td>\n",
       "      <td>2.6</td>\n",
       "    </tr>\n",
       "    <tr>\n",
       "      <th>2</th>\n",
       "      <td>Kevin Durant</td>\n",
       "      <td>SF</td>\n",
       "      <td>27.0</td>\n",
       "      <td>Basketball</td>\n",
       "      <td>U.N</td>\n",
       "      <td>Basketball</td>\n",
       "      <td>U.S</td>\n",
       "      <td>Oklahoma City Thunder</td>\n",
       "      <td>20,158,622</td>\n",
       "      <td>Basketball</td>\n",
       "      <td>17.0</td>\n",
       "      <td>2.7</td>\n",
       "    </tr>\n",
       "    <tr>\n",
       "      <th>3</th>\n",
       "      <td>DeMarcus Cousins</td>\n",
       "      <td>C</td>\n",
       "      <td>25.0</td>\n",
       "      <td>Basketball</td>\n",
       "      <td>U.N</td>\n",
       "      <td>Basketball</td>\n",
       "      <td>U.S</td>\n",
       "      <td>Sacramento Kings</td>\n",
       "      <td>15,851,950</td>\n",
       "      <td>Basketball</td>\n",
       "      <td>15.0</td>\n",
       "      <td>2.5</td>\n",
       "    </tr>\n",
       "    <tr>\n",
       "      <th>4</th>\n",
       "      <td>LeBron James</td>\n",
       "      <td>SF</td>\n",
       "      <td>31.0</td>\n",
       "      <td>Basketball</td>\n",
       "      <td>U.N</td>\n",
       "      <td>Basketball</td>\n",
       "      <td>U.S</td>\n",
       "      <td>Cleveland Cavaliers</td>\n",
       "      <td>22,970,500</td>\n",
       "      <td>Basketball</td>\n",
       "      <td>21.0</td>\n",
       "      <td>3.1</td>\n",
       "    </tr>\n",
       "    <tr>\n",
       "      <th>...</th>\n",
       "      <td>...</td>\n",
       "      <td>...</td>\n",
       "      <td>...</td>\n",
       "      <td>...</td>\n",
       "      <td>...</td>\n",
       "      <td>...</td>\n",
       "      <td>...</td>\n",
       "      <td>...</td>\n",
       "      <td>...</td>\n",
       "      <td>...</td>\n",
       "      <td>...</td>\n",
       "      <td>...</td>\n",
       "    </tr>\n",
       "    <tr>\n",
       "      <th>512</th>\n",
       "      <td>Jarrid Famous</td>\n",
       "      <td>NaN</td>\n",
       "      <td>NaN</td>\n",
       "      <td>Basketball</td>\n",
       "      <td>U.N</td>\n",
       "      <td>Basketball</td>\n",
       "      <td>U.S</td>\n",
       "      <td>Memphis Grizzlies</td>\n",
       "      <td>525,093</td>\n",
       "      <td>Basketball</td>\n",
       "      <td>NaN</td>\n",
       "      <td>NaN</td>\n",
       "    </tr>\n",
       "    <tr>\n",
       "      <th>513</th>\n",
       "      <td>Shannon Scott</td>\n",
       "      <td>NaN</td>\n",
       "      <td>NaN</td>\n",
       "      <td>Basketball</td>\n",
       "      <td>U.N</td>\n",
       "      <td>Basketball</td>\n",
       "      <td>U.S</td>\n",
       "      <td>Toronto Raptors</td>\n",
       "      <td>525,093</td>\n",
       "      <td>Basketball</td>\n",
       "      <td>NaN</td>\n",
       "      <td>NaN</td>\n",
       "    </tr>\n",
       "    <tr>\n",
       "      <th>514</th>\n",
       "      <td>Ronald Roberts Jr.</td>\n",
       "      <td>NaN</td>\n",
       "      <td>NaN</td>\n",
       "      <td>Basketball</td>\n",
       "      <td>U.N</td>\n",
       "      <td>Basketball</td>\n",
       "      <td>U.S</td>\n",
       "      <td>Toronto Raptors</td>\n",
       "      <td>525,093</td>\n",
       "      <td>Basketball</td>\n",
       "      <td>NaN</td>\n",
       "      <td>NaN</td>\n",
       "    </tr>\n",
       "    <tr>\n",
       "      <th>515</th>\n",
       "      <td>Terran Petteway</td>\n",
       "      <td>NaN</td>\n",
       "      <td>NaN</td>\n",
       "      <td>Basketball</td>\n",
       "      <td>U.N</td>\n",
       "      <td>Basketball</td>\n",
       "      <td>U.S</td>\n",
       "      <td>Atlanta Hawks</td>\n",
       "      <td>525,093</td>\n",
       "      <td>Basketball</td>\n",
       "      <td>NaN</td>\n",
       "      <td>NaN</td>\n",
       "    </tr>\n",
       "    <tr>\n",
       "      <th>516</th>\n",
       "      <td>JJ Hickson</td>\n",
       "      <td>NaN</td>\n",
       "      <td>NaN</td>\n",
       "      <td>Basketball</td>\n",
       "      <td>U.N</td>\n",
       "      <td>Basketball</td>\n",
       "      <td>U.S</td>\n",
       "      <td>Washington Wizards</td>\n",
       "      <td>273,038</td>\n",
       "      <td>Basketball</td>\n",
       "      <td>NaN</td>\n",
       "      <td>NaN</td>\n",
       "    </tr>\n",
       "  </tbody>\n",
       "</table>\n",
       "<p>517 rows × 12 columns</p>\n",
       "</div>"
      ],
      "text/plain": [
       "                 Player  Pos   Age       Sport ORGAN       Sport Country  \\\n",
       "0         Stephen Curry   PG  27.0  Basketball   U.N  Basketball     U.S   \n",
       "1          James Harden   SG  26.0  Basketball   U.N  Basketball     U.S   \n",
       "2          Kevin Durant   SF  27.0  Basketball   U.N  Basketball     U.S   \n",
       "3      DeMarcus Cousins    C  25.0  Basketball   U.N  Basketball     U.S   \n",
       "4          LeBron James   SF  31.0  Basketball   U.N  Basketball     U.S   \n",
       "..                  ...  ...   ...         ...   ...         ...     ...   \n",
       "512       Jarrid Famous  NaN   NaN  Basketball   U.N  Basketball     U.S   \n",
       "513       Shannon Scott  NaN   NaN  Basketball   U.N  Basketball     U.S   \n",
       "514  Ronald Roberts Jr.  NaN   NaN  Basketball   U.N  Basketball     U.S   \n",
       "515     Terran Petteway  NaN   NaN  Basketball   U.N  Basketball     U.S   \n",
       "516          JJ Hickson  NaN   NaN  Basketball   U.N  Basketball     U.S   \n",
       "\n",
       "                      TEAM      SALARY Type of Sport  sub_age  \\\n",
       "0    Golden State Warriors  11,370,786    Basketball     17.0   \n",
       "1          Houston Rockets  15,756,438    Basketball     16.0   \n",
       "2    Oklahoma City Thunder  20,158,622    Basketball     17.0   \n",
       "3         Sacramento Kings  15,851,950    Basketball     15.0   \n",
       "4      Cleveland Cavaliers  22,970,500    Basketball     21.0   \n",
       "..                     ...         ...           ...      ...   \n",
       "512      Memphis Grizzlies     525,093    Basketball      NaN   \n",
       "513        Toronto Raptors     525,093    Basketball      NaN   \n",
       "514        Toronto Raptors     525,093    Basketball      NaN   \n",
       "515          Atlanta Hawks     525,093    Basketball      NaN   \n",
       "516     Washington Wizards     273,038    Basketball      NaN   \n",
       "\n",
       "     Age divided by 10  \n",
       "0                  2.7  \n",
       "1                  2.6  \n",
       "2                  2.7  \n",
       "3                  2.5  \n",
       "4                  3.1  \n",
       "..                 ...  \n",
       "512                NaN  \n",
       "513                NaN  \n",
       "514                NaN  \n",
       "515                NaN  \n",
       "516                NaN  \n",
       "\n",
       "[517 rows x 12 columns]"
      ]
     },
     "execution_count": 67,
     "metadata": {},
     "output_type": "execute_result"
    }
   ],
   "source": [
    "nba.dropna(how=\"all\")# look at default parameters especially inplace=False"
   ]
  },
  {
   "cell_type": "code",
   "execution_count": 35,
   "metadata": {},
   "outputs": [
    {
     "data": {
      "text/plain": [
       "(476, 7)"
      ]
     },
     "execution_count": 35,
     "metadata": {},
     "output_type": "execute_result"
    }
   ],
   "source": [
    "nba.dropna(subset=['TOV',\"PF\"], how=\"any\", inplace=True)\n",
    "nba.shape"
   ]
  },
  {
   "cell_type": "markdown",
   "metadata": {},
   "source": [
    "## fillna"
   ]
  },
  {
   "cell_type": "code",
   "execution_count": 69,
   "metadata": {},
   "outputs": [
    {
     "data": {
      "text/html": [
       "<div>\n",
       "<style scoped>\n",
       "    .dataframe tbody tr th:only-of-type {\n",
       "        vertical-align: middle;\n",
       "    }\n",
       "\n",
       "    .dataframe tbody tr th {\n",
       "        vertical-align: top;\n",
       "    }\n",
       "\n",
       "    .dataframe thead th {\n",
       "        text-align: right;\n",
       "    }\n",
       "</style>\n",
       "<table border=\"1\" class=\"dataframe\">\n",
       "  <thead>\n",
       "    <tr style=\"text-align: right;\">\n",
       "      <th></th>\n",
       "      <th>Player</th>\n",
       "      <th>Pos</th>\n",
       "      <th>Age</th>\n",
       "      <th>Sport</th>\n",
       "      <th>ORGAN</th>\n",
       "      <th>Sport</th>\n",
       "      <th>Country</th>\n",
       "      <th>TEAM</th>\n",
       "      <th>SALARY</th>\n",
       "      <th>Type of Sport</th>\n",
       "      <th>sub_age</th>\n",
       "      <th>Age divided by 10</th>\n",
       "    </tr>\n",
       "  </thead>\n",
       "  <tbody>\n",
       "    <tr>\n",
       "      <th>512</th>\n",
       "      <td>Jarrid Famous</td>\n",
       "      <td>0</td>\n",
       "      <td>0.0</td>\n",
       "      <td>Basketball</td>\n",
       "      <td>U.N</td>\n",
       "      <td>Basketball</td>\n",
       "      <td>U.S</td>\n",
       "      <td>Memphis Grizzlies</td>\n",
       "      <td>525,093</td>\n",
       "      <td>Basketball</td>\n",
       "      <td>0.0</td>\n",
       "      <td>0.0</td>\n",
       "    </tr>\n",
       "    <tr>\n",
       "      <th>513</th>\n",
       "      <td>Shannon Scott</td>\n",
       "      <td>0</td>\n",
       "      <td>0.0</td>\n",
       "      <td>Basketball</td>\n",
       "      <td>U.N</td>\n",
       "      <td>Basketball</td>\n",
       "      <td>U.S</td>\n",
       "      <td>Toronto Raptors</td>\n",
       "      <td>525,093</td>\n",
       "      <td>Basketball</td>\n",
       "      <td>0.0</td>\n",
       "      <td>0.0</td>\n",
       "    </tr>\n",
       "    <tr>\n",
       "      <th>514</th>\n",
       "      <td>Ronald Roberts Jr.</td>\n",
       "      <td>0</td>\n",
       "      <td>0.0</td>\n",
       "      <td>Basketball</td>\n",
       "      <td>U.N</td>\n",
       "      <td>Basketball</td>\n",
       "      <td>U.S</td>\n",
       "      <td>Toronto Raptors</td>\n",
       "      <td>525,093</td>\n",
       "      <td>Basketball</td>\n",
       "      <td>0.0</td>\n",
       "      <td>0.0</td>\n",
       "    </tr>\n",
       "    <tr>\n",
       "      <th>515</th>\n",
       "      <td>Terran Petteway</td>\n",
       "      <td>0</td>\n",
       "      <td>0.0</td>\n",
       "      <td>Basketball</td>\n",
       "      <td>U.N</td>\n",
       "      <td>Basketball</td>\n",
       "      <td>U.S</td>\n",
       "      <td>Atlanta Hawks</td>\n",
       "      <td>525,093</td>\n",
       "      <td>Basketball</td>\n",
       "      <td>0.0</td>\n",
       "      <td>0.0</td>\n",
       "    </tr>\n",
       "    <tr>\n",
       "      <th>516</th>\n",
       "      <td>JJ Hickson</td>\n",
       "      <td>0</td>\n",
       "      <td>0.0</td>\n",
       "      <td>Basketball</td>\n",
       "      <td>U.N</td>\n",
       "      <td>Basketball</td>\n",
       "      <td>U.S</td>\n",
       "      <td>Washington Wizards</td>\n",
       "      <td>273,038</td>\n",
       "      <td>Basketball</td>\n",
       "      <td>0.0</td>\n",
       "      <td>0.0</td>\n",
       "    </tr>\n",
       "  </tbody>\n",
       "</table>\n",
       "</div>"
      ],
      "text/plain": [
       "                 Player Pos  Age       Sport ORGAN       Sport Country  \\\n",
       "512       Jarrid Famous   0  0.0  Basketball   U.N  Basketball     U.S   \n",
       "513       Shannon Scott   0  0.0  Basketball   U.N  Basketball     U.S   \n",
       "514  Ronald Roberts Jr.   0  0.0  Basketball   U.N  Basketball     U.S   \n",
       "515     Terran Petteway   0  0.0  Basketball   U.N  Basketball     U.S   \n",
       "516          JJ Hickson   0  0.0  Basketball   U.N  Basketball     U.S   \n",
       "\n",
       "                   TEAM   SALARY Type of Sport  sub_age  Age divided by 10  \n",
       "512   Memphis Grizzlies  525,093    Basketball      0.0                0.0  \n",
       "513     Toronto Raptors  525,093    Basketball      0.0                0.0  \n",
       "514     Toronto Raptors  525,093    Basketball      0.0                0.0  \n",
       "515       Atlanta Hawks  525,093    Basketball      0.0                0.0  \n",
       "516  Washington Wizards  273,038    Basketball      0.0                0.0  "
      ]
     },
     "execution_count": 69,
     "metadata": {},
     "output_type": "execute_result"
    }
   ],
   "source": [
    "nba.fillna(0).tail()"
   ]
  },
  {
   "cell_type": "code",
   "execution_count": 70,
   "metadata": {},
   "outputs": [
    {
     "name": "stderr",
     "output_type": "stream",
     "text": [
      "C:\\Users\\Gidi\\anaconda3\\lib\\site-packages\\pandas\\core\\generic.py:6392: SettingWithCopyWarning: \n",
      "A value is trying to be set on a copy of a slice from a DataFrame\n",
      "\n",
      "See the caveats in the documentation: https://pandas.pydata.org/pandas-docs/stable/user_guide/indexing.html#returning-a-view-versus-a-copy\n",
      "  return self._update_inplace(result)\n"
     ]
    },
    {
     "data": {
      "text/html": [
       "<div>\n",
       "<style scoped>\n",
       "    .dataframe tbody tr th:only-of-type {\n",
       "        vertical-align: middle;\n",
       "    }\n",
       "\n",
       "    .dataframe tbody tr th {\n",
       "        vertical-align: top;\n",
       "    }\n",
       "\n",
       "    .dataframe thead th {\n",
       "        text-align: right;\n",
       "    }\n",
       "</style>\n",
       "<table border=\"1\" class=\"dataframe\">\n",
       "  <thead>\n",
       "    <tr style=\"text-align: right;\">\n",
       "      <th></th>\n",
       "      <th>Player</th>\n",
       "      <th>Pos</th>\n",
       "      <th>Age</th>\n",
       "      <th>Sport</th>\n",
       "      <th>ORGAN</th>\n",
       "      <th>Sport</th>\n",
       "      <th>Country</th>\n",
       "      <th>TEAM</th>\n",
       "      <th>SALARY</th>\n",
       "      <th>Type of Sport</th>\n",
       "      <th>sub_age</th>\n",
       "      <th>Age divided by 10</th>\n",
       "    </tr>\n",
       "  </thead>\n",
       "  <tbody>\n",
       "    <tr>\n",
       "      <th>512</th>\n",
       "      <td>Jarrid Famous</td>\n",
       "      <td>NaN</td>\n",
       "      <td>NaN</td>\n",
       "      <td>Basketball</td>\n",
       "      <td>U.N</td>\n",
       "      <td>Basketball</td>\n",
       "      <td>U.S</td>\n",
       "      <td>Memphis Grizzlies</td>\n",
       "      <td>525,093</td>\n",
       "      <td>Basketball</td>\n",
       "      <td>NaN</td>\n",
       "      <td>NaN</td>\n",
       "    </tr>\n",
       "    <tr>\n",
       "      <th>513</th>\n",
       "      <td>Shannon Scott</td>\n",
       "      <td>NaN</td>\n",
       "      <td>NaN</td>\n",
       "      <td>Basketball</td>\n",
       "      <td>U.N</td>\n",
       "      <td>Basketball</td>\n",
       "      <td>U.S</td>\n",
       "      <td>Toronto Raptors</td>\n",
       "      <td>525,093</td>\n",
       "      <td>Basketball</td>\n",
       "      <td>NaN</td>\n",
       "      <td>NaN</td>\n",
       "    </tr>\n",
       "    <tr>\n",
       "      <th>514</th>\n",
       "      <td>Ronald Roberts Jr.</td>\n",
       "      <td>NaN</td>\n",
       "      <td>NaN</td>\n",
       "      <td>Basketball</td>\n",
       "      <td>U.N</td>\n",
       "      <td>Basketball</td>\n",
       "      <td>U.S</td>\n",
       "      <td>Toronto Raptors</td>\n",
       "      <td>525,093</td>\n",
       "      <td>Basketball</td>\n",
       "      <td>NaN</td>\n",
       "      <td>NaN</td>\n",
       "    </tr>\n",
       "    <tr>\n",
       "      <th>515</th>\n",
       "      <td>Terran Petteway</td>\n",
       "      <td>NaN</td>\n",
       "      <td>NaN</td>\n",
       "      <td>Basketball</td>\n",
       "      <td>U.N</td>\n",
       "      <td>Basketball</td>\n",
       "      <td>U.S</td>\n",
       "      <td>Atlanta Hawks</td>\n",
       "      <td>525,093</td>\n",
       "      <td>Basketball</td>\n",
       "      <td>NaN</td>\n",
       "      <td>NaN</td>\n",
       "    </tr>\n",
       "    <tr>\n",
       "      <th>516</th>\n",
       "      <td>JJ Hickson</td>\n",
       "      <td>NaN</td>\n",
       "      <td>NaN</td>\n",
       "      <td>Basketball</td>\n",
       "      <td>U.N</td>\n",
       "      <td>Basketball</td>\n",
       "      <td>U.S</td>\n",
       "      <td>Washington Wizards</td>\n",
       "      <td>273,038</td>\n",
       "      <td>Basketball</td>\n",
       "      <td>NaN</td>\n",
       "      <td>NaN</td>\n",
       "    </tr>\n",
       "  </tbody>\n",
       "</table>\n",
       "</div>"
      ],
      "text/plain": [
       "                 Player  Pos  Age       Sport ORGAN       Sport Country  \\\n",
       "512       Jarrid Famous  NaN  NaN  Basketball   U.N  Basketball     U.S   \n",
       "513       Shannon Scott  NaN  NaN  Basketball   U.N  Basketball     U.S   \n",
       "514  Ronald Roberts Jr.  NaN  NaN  Basketball   U.N  Basketball     U.S   \n",
       "515     Terran Petteway  NaN  NaN  Basketball   U.N  Basketball     U.S   \n",
       "516          JJ Hickson  NaN  NaN  Basketball   U.N  Basketball     U.S   \n",
       "\n",
       "                   TEAM   SALARY Type of Sport  sub_age  Age divided by 10  \n",
       "512   Memphis Grizzlies  525,093    Basketball      NaN                NaN  \n",
       "513     Toronto Raptors  525,093    Basketball      NaN                NaN  \n",
       "514     Toronto Raptors  525,093    Basketball      NaN                NaN  \n",
       "515       Atlanta Hawks  525,093    Basketball      NaN                NaN  \n",
       "516  Washington Wizards  273,038    Basketball      NaN                NaN  "
      ]
     },
     "execution_count": 70,
     "metadata": {},
     "output_type": "execute_result"
    }
   ],
   "source": [
    "nba[\"TEAM\"].fillna(\"No Team\", inplace = True)\n",
    "nba.tail()"
   ]
  },
  {
   "cell_type": "code",
   "execution_count": null,
   "metadata": {},
   "outputs": [],
   "source": [
    "# sidenot if you know that you want to remove/fill null values you can add it wehen opening the file see next cell"
   ]
  },
  {
   "cell_type": "markdown",
   "metadata": {},
   "source": [
    "# astype method"
   ]
  },
  {
   "cell_type": "code",
   "execution_count": 71,
   "metadata": {},
   "outputs": [
    {
     "name": "stdout",
     "output_type": "stream",
     "text": [
      "<class 'pandas.core.frame.DataFrame'>\n",
      "Int64Index: 517 entries, 0 to 516\n",
      "Data columns (total 5 columns):\n",
      " #   Column  Non-Null Count  Dtype  \n",
      "---  ------  --------------  -----  \n",
      " 0   Player  517 non-null    object \n",
      " 1   Pos     476 non-null    object \n",
      " 2   Age     476 non-null    float64\n",
      " 3   TEAM    517 non-null    object \n",
      " 4   SALARY  517 non-null    object \n",
      "dtypes: float64(1), object(4)\n",
      "memory usage: 24.2+ KB\n"
     ]
    }
   ],
   "source": [
    "nba = pd.read_csv(\"nbasalariespoints.csv\", usecols = [\"Player\", \"Pos\",\"Age\", \"TEAM\", \"SALARY\"]).dropna(how=\"all\")\n",
    "nba[\"SALARY\"].fillna(0, inplace = True)\n",
    "nba[\"TEAM\"].fillna(\"No Team\", inplace = True)\n",
    "nba.info()"
   ]
  },
  {
   "cell_type": "code",
   "execution_count": 72,
   "metadata": {},
   "outputs": [],
   "source": [
    "nba[\"SALARY\"] = nba[\"SALARY\"].str.replace(\",\",\"\") \n",
    "nba[\"SALARY\"] = nba[\"SALARY\"].astype(float) # not working because of the coma so you first need to remove it and then change the type"
   ]
  },
  {
   "cell_type": "code",
   "execution_count": 73,
   "metadata": {},
   "outputs": [
    {
     "data": {
      "text/plain": [
       "Player     object\n",
       "Pos        object\n",
       "Age       float64\n",
       "TEAM       object\n",
       "SALARY    float64\n",
       "dtype: object"
      ]
     },
     "execution_count": 73,
     "metadata": {},
     "output_type": "execute_result"
    }
   ],
   "source": [
    "nba.dtypes"
   ]
  },
  {
   "cell_type": "code",
   "execution_count": 76,
   "metadata": {},
   "outputs": [
    {
     "data": {
      "text/plain": [
       "32"
      ]
     },
     "execution_count": 76,
     "metadata": {},
     "output_type": "execute_result"
    }
   ],
   "source": [
    "nba[\"TEAM\"].nunique()"
   ]
  },
  {
   "cell_type": "code",
   "execution_count": 47,
   "metadata": {},
   "outputs": [
    {
     "data": {
      "text/plain": [
       "7"
      ]
     },
     "execution_count": 47,
     "metadata": {},
     "output_type": "execute_result"
    }
   ],
   "source": [
    "nba.Pos.nunique()"
   ]
  },
  {
   "cell_type": "code",
   "execution_count": 49,
   "metadata": {},
   "outputs": [
    {
     "name": "stdout",
     "output_type": "stream",
     "text": [
      "<class 'pandas.core.frame.DataFrame'>\n",
      "Int64Index: 517 entries, 0 to 516\n",
      "Data columns (total 5 columns):\n",
      "Player    517 non-null object\n",
      "Pos       476 non-null object\n",
      "Age       476 non-null float64\n",
      "TEAM      517 non-null object\n",
      "SALARY    420 non-null float64\n",
      "dtypes: float64(2), object(3)\n",
      "memory usage: 24.2+ KB\n"
     ]
    }
   ],
   "source": [
    "nba.info()"
   ]
  },
  {
   "cell_type": "code",
   "execution_count": 77,
   "metadata": {},
   "outputs": [
    {
     "name": "stdout",
     "output_type": "stream",
     "text": [
      "<class 'pandas.core.frame.DataFrame'>\n",
      "Int64Index: 517 entries, 0 to 516\n",
      "Data columns (total 5 columns):\n",
      " #   Column  Non-Null Count  Dtype   \n",
      "---  ------  --------------  -----   \n",
      " 0   Player  517 non-null    object  \n",
      " 1   Pos     476 non-null    category\n",
      " 2   Age     476 non-null    float64 \n",
      " 3   TEAM    517 non-null    category\n",
      " 4   SALARY  420 non-null    float64 \n",
      "dtypes: category(2), float64(2), object(1)\n",
      "memory usage: 18.8+ KB\n"
     ]
    }
   ],
   "source": [
    "nba[\"Pos\"] = nba[\"Pos\"].astype(\"category\")\n",
    "nba[\"TEAM\"] = nba[\"TEAM\"].astype(\"category\")\n",
    "nba.info() "
   ]
  },
  {
   "cell_type": "code",
   "execution_count": 79,
   "metadata": {},
   "outputs": [
    {
     "data": {
      "text/plain": [
       "19262"
      ]
     },
     "execution_count": 79,
     "metadata": {},
     "output_type": "execute_result"
    }
   ],
   "source": [
    "nba.memory_usage().sum() # if you eant to grab only the memory usage. any how see the difference betwwen this one and the former"
   ]
  },
  {
   "cell_type": "markdown",
   "metadata": {},
   "source": [
    "# sorting "
   ]
  },
  {
   "cell_type": "markdown",
   "metadata": {},
   "source": [
    "## sort_values / index"
   ]
  },
  {
   "cell_type": "code",
   "execution_count": 85,
   "metadata": {},
   "outputs": [
    {
     "data": {
      "text/html": [
       "<div>\n",
       "<style scoped>\n",
       "    .dataframe tbody tr th:only-of-type {\n",
       "        vertical-align: middle;\n",
       "    }\n",
       "\n",
       "    .dataframe tbody tr th {\n",
       "        vertical-align: top;\n",
       "    }\n",
       "\n",
       "    .dataframe thead th {\n",
       "        text-align: right;\n",
       "    }\n",
       "</style>\n",
       "<table border=\"1\" class=\"dataframe\">\n",
       "  <thead>\n",
       "    <tr style=\"text-align: right;\">\n",
       "      <th></th>\n",
       "      <th>Player</th>\n",
       "      <th>Pos</th>\n",
       "      <th>Age</th>\n",
       "      <th>TEAM</th>\n",
       "      <th>SALARY</th>\n",
       "    </tr>\n",
       "  </thead>\n",
       "  <tbody>\n",
       "    <tr>\n",
       "      <th>36</th>\n",
       "      <td>Kobe Bryant</td>\n",
       "      <td>SF</td>\n",
       "      <td>37.0</td>\n",
       "      <td>Los Angeles Lakers</td>\n",
       "      <td>25000000.0</td>\n",
       "    </tr>\n",
       "    <tr>\n",
       "      <th>4</th>\n",
       "      <td>LeBron James</td>\n",
       "      <td>SF</td>\n",
       "      <td>31.0</td>\n",
       "      <td>Cleveland Cavaliers</td>\n",
       "      <td>22970500.0</td>\n",
       "    </tr>\n",
       "    <tr>\n",
       "      <th>12</th>\n",
       "      <td>Carmelo Anthony</td>\n",
       "      <td>SF</td>\n",
       "      <td>31.0</td>\n",
       "      <td>New York Knicks</td>\n",
       "      <td>22875000.0</td>\n",
       "    </tr>\n",
       "    <tr>\n",
       "      <th>82</th>\n",
       "      <td>Dwight Howard</td>\n",
       "      <td>C</td>\n",
       "      <td>30.0</td>\n",
       "      <td>Houston Rockets</td>\n",
       "      <td>22359364.0</td>\n",
       "    </tr>\n",
       "    <tr>\n",
       "      <th>28</th>\n",
       "      <td>Chris Bosh</td>\n",
       "      <td>PF</td>\n",
       "      <td>31.0</td>\n",
       "      <td>Miami Heat</td>\n",
       "      <td>22192730.0</td>\n",
       "    </tr>\n",
       "    <tr>\n",
       "      <th>27</th>\n",
       "      <td>Chris Paul</td>\n",
       "      <td>PG</td>\n",
       "      <td>30.0</td>\n",
       "      <td>LA Clippers</td>\n",
       "      <td>21468695.0</td>\n",
       "    </tr>\n",
       "    <tr>\n",
       "      <th>2</th>\n",
       "      <td>Kevin Durant</td>\n",
       "      <td>SF</td>\n",
       "      <td>27.0</td>\n",
       "      <td>Oklahoma City Thunder</td>\n",
       "      <td>20158622.0</td>\n",
       "    </tr>\n",
       "    <tr>\n",
       "      <th>47</th>\n",
       "      <td>Derrick Rose</td>\n",
       "      <td>PG</td>\n",
       "      <td>27.0</td>\n",
       "      <td>Chicago Bulls</td>\n",
       "      <td>20093064.0</td>\n",
       "    </tr>\n",
       "  </tbody>\n",
       "</table>\n",
       "</div>"
      ],
      "text/plain": [
       "             Player Pos   Age                   TEAM      SALARY\n",
       "36      Kobe Bryant  SF  37.0     Los Angeles Lakers  25000000.0\n",
       "4      LeBron James  SF  31.0    Cleveland Cavaliers  22970500.0\n",
       "12  Carmelo Anthony  SF  31.0        New York Knicks  22875000.0\n",
       "82    Dwight Howard   C  30.0        Houston Rockets  22359364.0\n",
       "28       Chris Bosh  PF  31.0             Miami Heat  22192730.0\n",
       "27       Chris Paul  PG  30.0            LA Clippers  21468695.0\n",
       "2      Kevin Durant  SF  27.0  Oklahoma City Thunder  20158622.0\n",
       "47     Derrick Rose  PG  27.0          Chicago Bulls  20093064.0"
      ]
     },
     "execution_count": 85,
     "metadata": {},
     "output_type": "execute_result"
    }
   ],
   "source": [
    "nba.sort_values(by = \"SALARY\", ascending=False).head(8)"
   ]
  },
  {
   "cell_type": "code",
   "execution_count": 59,
   "metadata": {},
   "outputs": [],
   "source": [
    "nba.sort_values(by = [\"Age\"], inplace=True)"
   ]
  },
  {
   "cell_type": "code",
   "execution_count": 86,
   "metadata": {},
   "outputs": [
    {
     "data": {
      "text/html": [
       "<div>\n",
       "<style scoped>\n",
       "    .dataframe tbody tr th:only-of-type {\n",
       "        vertical-align: middle;\n",
       "    }\n",
       "\n",
       "    .dataframe tbody tr th {\n",
       "        vertical-align: top;\n",
       "    }\n",
       "\n",
       "    .dataframe thead th {\n",
       "        text-align: right;\n",
       "    }\n",
       "</style>\n",
       "<table border=\"1\" class=\"dataframe\">\n",
       "  <thead>\n",
       "    <tr style=\"text-align: right;\">\n",
       "      <th></th>\n",
       "      <th>Player</th>\n",
       "      <th>Pos</th>\n",
       "      <th>Age</th>\n",
       "      <th>TEAM</th>\n",
       "      <th>SALARY</th>\n",
       "    </tr>\n",
       "  </thead>\n",
       "  <tbody>\n",
       "    <tr>\n",
       "      <th>0</th>\n",
       "      <td>Stephen Curry</td>\n",
       "      <td>PG</td>\n",
       "      <td>27.0</td>\n",
       "      <td>Golden State Warriors</td>\n",
       "      <td>11370786.0</td>\n",
       "    </tr>\n",
       "    <tr>\n",
       "      <th>1</th>\n",
       "      <td>James Harden</td>\n",
       "      <td>SG</td>\n",
       "      <td>26.0</td>\n",
       "      <td>Houston Rockets</td>\n",
       "      <td>15756438.0</td>\n",
       "    </tr>\n",
       "    <tr>\n",
       "      <th>2</th>\n",
       "      <td>Kevin Durant</td>\n",
       "      <td>SF</td>\n",
       "      <td>27.0</td>\n",
       "      <td>Oklahoma City Thunder</td>\n",
       "      <td>20158622.0</td>\n",
       "    </tr>\n",
       "    <tr>\n",
       "      <th>3</th>\n",
       "      <td>DeMarcus Cousins</td>\n",
       "      <td>C</td>\n",
       "      <td>25.0</td>\n",
       "      <td>Sacramento Kings</td>\n",
       "      <td>15851950.0</td>\n",
       "    </tr>\n",
       "    <tr>\n",
       "      <th>4</th>\n",
       "      <td>LeBron James</td>\n",
       "      <td>SF</td>\n",
       "      <td>31.0</td>\n",
       "      <td>Cleveland Cavaliers</td>\n",
       "      <td>22970500.0</td>\n",
       "    </tr>\n",
       "  </tbody>\n",
       "</table>\n",
       "</div>"
      ],
      "text/plain": [
       "             Player Pos   Age                   TEAM      SALARY\n",
       "0     Stephen Curry  PG  27.0  Golden State Warriors  11370786.0\n",
       "1      James Harden  SG  26.0        Houston Rockets  15756438.0\n",
       "2      Kevin Durant  SF  27.0  Oklahoma City Thunder  20158622.0\n",
       "3  DeMarcus Cousins   C  25.0       Sacramento Kings  15851950.0\n",
       "4      LeBron James  SF  31.0    Cleveland Cavaliers  22970500.0"
      ]
     },
     "execution_count": 86,
     "metadata": {},
     "output_type": "execute_result"
    }
   ],
   "source": [
    "nba.sort_index(inplace=True)\n",
    "nba.head()"
   ]
  },
  {
   "cell_type": "markdown",
   "metadata": {},
   "source": [
    "## rank method"
   ]
  },
  {
   "cell_type": "code",
   "execution_count": 61,
   "metadata": {},
   "outputs": [],
   "source": [
    "nba[\"Salary_rank\"] = nba[\"SALARY\"].rank().astype(float)"
   ]
  },
  {
   "cell_type": "code",
   "execution_count": 62,
   "metadata": {},
   "outputs": [
    {
     "data": {
      "text/html": [
       "<div>\n",
       "<style scoped>\n",
       "    .dataframe tbody tr th:only-of-type {\n",
       "        vertical-align: middle;\n",
       "    }\n",
       "\n",
       "    .dataframe tbody tr th {\n",
       "        vertical-align: top;\n",
       "    }\n",
       "\n",
       "    .dataframe thead th {\n",
       "        text-align: right;\n",
       "    }\n",
       "</style>\n",
       "<table border=\"1\" class=\"dataframe\">\n",
       "  <thead>\n",
       "    <tr style=\"text-align: right;\">\n",
       "      <th></th>\n",
       "      <th>Player</th>\n",
       "      <th>Pos</th>\n",
       "      <th>Age</th>\n",
       "      <th>TEAM</th>\n",
       "      <th>SALARY</th>\n",
       "      <th>Salary_rank</th>\n",
       "    </tr>\n",
       "  </thead>\n",
       "  <tbody>\n",
       "    <tr>\n",
       "      <th>349</th>\n",
       "      <td>Tyus Jones</td>\n",
       "      <td>PG</td>\n",
       "      <td>19.0</td>\n",
       "      <td>Minnesota Timberwolves</td>\n",
       "      <td>1282080.0</td>\n",
       "      <td>121.0</td>\n",
       "    </tr>\n",
       "    <tr>\n",
       "      <th>394</th>\n",
       "      <td>Rashad Vaughn</td>\n",
       "      <td>SG</td>\n",
       "      <td>19.0</td>\n",
       "      <td>Milwaukee Bucks</td>\n",
       "      <td>1733040.0</td>\n",
       "      <td>153.0</td>\n",
       "    </tr>\n",
       "    <tr>\n",
       "      <th>445</th>\n",
       "      <td>Kevon Looney</td>\n",
       "      <td>PF</td>\n",
       "      <td>19.0</td>\n",
       "      <td>Golden State Warriors</td>\n",
       "      <td>1131960.0</td>\n",
       "      <td>96.0</td>\n",
       "    </tr>\n",
       "    <tr>\n",
       "      <th>92</th>\n",
       "      <td>Emmanuel Mudiay</td>\n",
       "      <td>PG</td>\n",
       "      <td>19.0</td>\n",
       "      <td>Denver Nuggets</td>\n",
       "      <td>3102240.0</td>\n",
       "      <td>227.0</td>\n",
       "    </tr>\n",
       "    <tr>\n",
       "      <th>263</th>\n",
       "      <td>Justise Winslow</td>\n",
       "      <td>SF</td>\n",
       "      <td>19.0</td>\n",
       "      <td>Miami Heat</td>\n",
       "      <td>2481720.0</td>\n",
       "      <td>193.0</td>\n",
       "    </tr>\n",
       "  </tbody>\n",
       "</table>\n",
       "</div>"
      ],
      "text/plain": [
       "              Player Pos   Age                    TEAM     SALARY  Salary_rank\n",
       "349       Tyus Jones  PG  19.0  Minnesota Timberwolves  1282080.0        121.0\n",
       "394    Rashad Vaughn  SG  19.0         Milwaukee Bucks  1733040.0        153.0\n",
       "445     Kevon Looney  PF  19.0   Golden State Warriors  1131960.0         96.0\n",
       "92   Emmanuel Mudiay  PG  19.0          Denver Nuggets  3102240.0        227.0\n",
       "263  Justise Winslow  SF  19.0              Miami Heat  2481720.0        193.0"
      ]
     },
     "execution_count": 62,
     "metadata": {},
     "output_type": "execute_result"
    }
   ],
   "source": [
    "nba.head()"
   ]
  },
  {
   "cell_type": "code",
   "execution_count": 64,
   "metadata": {},
   "outputs": [
    {
     "data": {
      "text/html": [
       "<div>\n",
       "<style scoped>\n",
       "    .dataframe tbody tr th:only-of-type {\n",
       "        vertical-align: middle;\n",
       "    }\n",
       "\n",
       "    .dataframe tbody tr th {\n",
       "        vertical-align: top;\n",
       "    }\n",
       "\n",
       "    .dataframe thead th {\n",
       "        text-align: right;\n",
       "    }\n",
       "</style>\n",
       "<table border=\"1\" class=\"dataframe\">\n",
       "  <thead>\n",
       "    <tr style=\"text-align: right;\">\n",
       "      <th></th>\n",
       "      <th>Player</th>\n",
       "      <th>Pos</th>\n",
       "      <th>Age</th>\n",
       "      <th>TEAM</th>\n",
       "      <th>SALARY</th>\n",
       "      <th>Salary_rank</th>\n",
       "    </tr>\n",
       "  </thead>\n",
       "  <tbody>\n",
       "    <tr>\n",
       "      <th>395</th>\n",
       "      <td>Thanasis Antetokounmpo</td>\n",
       "      <td>SF</td>\n",
       "      <td>23.0</td>\n",
       "      <td>New York Knicks</td>\n",
       "      <td>30888.0</td>\n",
       "      <td>1.0</td>\n",
       "    </tr>\n",
       "    <tr>\n",
       "      <th>405</th>\n",
       "      <td>Cory Jefferson</td>\n",
       "      <td>PF</td>\n",
       "      <td>25.0</td>\n",
       "      <td>Phoenix Suns</td>\n",
       "      <td>49709.0</td>\n",
       "      <td>2.0</td>\n",
       "    </tr>\n",
       "    <tr>\n",
       "      <th>367</th>\n",
       "      <td>Orlando Johnson</td>\n",
       "      <td>SG</td>\n",
       "      <td>26.0</td>\n",
       "      <td>Phoenix Suns</td>\n",
       "      <td>55722.0</td>\n",
       "      <td>4.0</td>\n",
       "    </tr>\n",
       "    <tr>\n",
       "      <th>451</th>\n",
       "      <td>Elliot Williams</td>\n",
       "      <td>PG</td>\n",
       "      <td>26.0</td>\n",
       "      <td>Memphis Grizzlies</td>\n",
       "      <td>55722.0</td>\n",
       "      <td>4.0</td>\n",
       "    </tr>\n",
       "    <tr>\n",
       "      <th>390</th>\n",
       "      <td>Phil Pressey</td>\n",
       "      <td>PG</td>\n",
       "      <td>24.0</td>\n",
       "      <td>Phoenix Suns</td>\n",
       "      <td>55722.0</td>\n",
       "      <td>4.0</td>\n",
       "    </tr>\n",
       "  </tbody>\n",
       "</table>\n",
       "</div>"
      ],
      "text/plain": [
       "                     Player Pos   Age               TEAM   SALARY  Salary_rank\n",
       "395  Thanasis Antetokounmpo  SF  23.0    New York Knicks  30888.0          1.0\n",
       "405          Cory Jefferson  PF  25.0       Phoenix Suns  49709.0          2.0\n",
       "367         Orlando Johnson  SG  26.0       Phoenix Suns  55722.0          4.0\n",
       "451         Elliot Williams  PG  26.0  Memphis Grizzlies  55722.0          4.0\n",
       "390            Phil Pressey  PG  24.0       Phoenix Suns  55722.0          4.0"
      ]
     },
     "execution_count": 64,
     "metadata": {},
     "output_type": "execute_result"
    }
   ],
   "source": [
    "nba.sort_values(by = \"SALARY\",ascending=True).head()"
   ]
  },
  {
   "cell_type": "code",
   "execution_count": null,
   "metadata": {},
   "outputs": [],
   "source": []
  }
 ],
 "metadata": {
  "kernelspec": {
   "display_name": "Python 3 (ipykernel)",
   "language": "python",
   "name": "python3"
  },
  "language_info": {
   "codemirror_mode": {
    "name": "ipython",
    "version": 3
   },
   "file_extension": ".py",
   "mimetype": "text/x-python",
   "name": "python",
   "nbconvert_exporter": "python",
   "pygments_lexer": "ipython3",
   "version": "3.9.7"
  }
 },
 "nbformat": 4,
 "nbformat_minor": 2
}
